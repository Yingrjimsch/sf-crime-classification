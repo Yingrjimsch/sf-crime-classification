{
 "cells": [
  {
   "cell_type": "code",
   "execution_count": 2,
   "id": "8923e327",
   "metadata": {},
   "outputs": [],
   "source": [
    "import pandas as pd\n",
    "import numpy as np\n",
    "from matplotlib import pyplot as plt\n",
    "from sklearn.model_selection import train_test_split\n",
    "from seaborn import heatmap\n",
    "from sklearn import tree\n",
    "import seaborn as sns\n",
    "from keras.models import Sequential\n",
    "import preprocessing as pp"
   ]
  },
  {
   "cell_type": "code",
   "execution_count": 3,
   "id": "531ca704",
   "metadata": {},
   "outputs": [
    {
     "name": "stderr",
     "output_type": "stream",
     "text": [
      "C:\\Users\\axgno01\\Schule\\sf-crime-classification\\preprocessing.py:78: FutureWarning: The frame.append method is deprecated and will be removed from pandas in a future version. Use pandas.concat instead.\n",
      "  df_temp_data_0 = df_temp_data_0.append(df_temp_data_1, ignore_index = True).append(df_temp_data_2, ignore_index = True).append(df_temp_data_3, ignore_index = True).append(df_temp_data_4, ignore_index = True).append(df_temp_data_5, ignore_index = True).append(df_temp_data_6, ignore_index = True)\n",
      "C:\\Users\\axgno01\\Schule\\sf-crime-classification\\preprocessing.py:78: FutureWarning: The frame.append method is deprecated and will be removed from pandas in a future version. Use pandas.concat instead.\n",
      "  df_temp_data_0 = df_temp_data_0.append(df_temp_data_1, ignore_index = True).append(df_temp_data_2, ignore_index = True).append(df_temp_data_3, ignore_index = True).append(df_temp_data_4, ignore_index = True).append(df_temp_data_5, ignore_index = True).append(df_temp_data_6, ignore_index = True)\n"
     ]
    }
   ],
   "source": [
    "#Aufruf py file\n",
    "\n",
    "Y_df_train, X_df_train = pp.preprocessing()\n",
    "Y_df_test, X_df_test = pp.preprocessing(\"test.csv\")"
   ]
  },
  {
   "cell_type": "code",
   "execution_count": 18,
   "id": "fc119a1a",
   "metadata": {},
   "outputs": [
    {
     "data": {
      "text/plain": [
       "{0: 0.5328522408286036,\n",
       " 1: 0.17827743401217117,\n",
       " 2: 0.12881325763342918,\n",
       " 3: 0.41813872044611194,\n",
       " 4: 0.5036517467876822,\n",
       " 5: 0.2442884406849547,\n",
       " 6: 0.9767605547394124,\n",
       " 7: 0.29231223225572994,\n",
       " 8: 2.62605787974209,\n",
       " 9: 0.6134811025381806,\n",
       " 10: 0.7152393881178285,\n",
       " 11: 5.24965977830135,\n",
       " 12: 2.119788035479123,\n",
       " 13: 0.41641712331079717,\n",
       " 14: 4.949910686021797,\n",
       " 15: 2.250004496622394,\n",
       " 16: 3.0685793182718153,\n",
       " 17: 0.8747046971753817,\n",
       " 18: 1.349569926777356,\n",
       " 19: 9.595211483673022,\n",
       " 20: 11.854696342024747,\n",
       " 21: 9.899821372043593,\n",
       " 22: 5.127379509430206,\n",
       " 23: 3.0154169851994186,\n",
       " 24: 5.208256755229615,\n",
       " 25: 14.849732058065392,\n",
       " 26: 46.009825556956706,\n",
       " 27: 11.82348334481036,\n",
       " 28: 77.69133173631444,\n",
       " 29: 19.289342673363294,\n",
       " 30: 44.19841510195841,\n",
       " 31: 18.602149852356977,\n",
       " 32: 151.70807345807347,\n",
       " 33: 87.70622996794872,\n",
       " 34: 153.78626624517037,\n",
       " 35: 55.30245042314008,\n",
       " 36: 3742.1324786324785,\n",
       " 37: 7.1688361659626025,\n",
       " 38: 1020.5815850815851}"
      ]
     },
     "execution_count": 18,
     "metadata": {},
     "output_type": "execute_result"
    }
   ],
   "source": [
    "from sklearn.utils import class_weight\n",
    "class_weight = class_weight.compute_class_weight(class_weight='balanced', classes=np.unique(Y_df_train[0]), y=Y_df_train[0])\n",
    "class_weight = {v: k for v, k in enumerate(class_weight)}\n",
    "class_weight"
   ]
  },
  {
   "cell_type": "code",
   "execution_count": 19,
   "id": "e793ba5b",
   "metadata": {},
   "outputs": [],
   "source": [
    "X_df_train = (X_df_train - X_df_train.mean())/ X_df_train.std()\n",
    "X_df_test = (X_df_test - X_df_test.mean())/ X_df_test.std()"
   ]
  },
  {
   "cell_type": "code",
   "execution_count": 20,
   "id": "08a9cad2",
   "metadata": {},
   "outputs": [
    {
     "name": "stdout",
     "output_type": "stream",
     "text": [
      "Model: \"sequential\"\n",
      "_________________________________________________________________\n",
      " Layer (type)                Output Shape              Param #   \n",
      "=================================================================\n",
      " dense (Dense)               (None, 220)               5940      \n",
      "                                                                 \n",
      " dropout (Dropout)           (None, 220)               0         \n",
      "                                                                 \n",
      " dense_1 (Dense)             (None, 110)               24310     \n",
      "                                                                 \n",
      " dropout_1 (Dropout)         (None, 110)               0         \n",
      "                                                                 \n",
      " dense_2 (Dense)             (None, 220)               24420     \n",
      "                                                                 \n",
      " dropout_2 (Dropout)         (None, 220)               0         \n",
      "                                                                 \n",
      " dense_3 (Dense)             (None, 39)                8619      \n",
      "                                                                 \n",
      "=================================================================\n",
      "Total params: 63,289\n",
      "Trainable params: 63,289\n",
      "Non-trainable params: 0\n",
      "_________________________________________________________________\n"
     ]
    }
   ],
   "source": [
    "from keras.models import Sequential\n",
    "from keras.layers import Input, Flatten, Dense, Dropout\n",
    "\n",
    "model = Sequential()\n",
    "\n",
    "#220, 110, 0.2\n",
    "model.add(Input(shape=X_df_train.shape[1]))\n",
    "model.add(Dense(220, activation='relu'))\n",
    "model.add(Dropout(rate=0.2))\n",
    "model.add(Dense(110, activation='relu'))\n",
    "model.add(Dropout(rate=0.2))\n",
    "model.add(Dense(220, activation='relu'))\n",
    "model.add(Dropout(rate=0.1))\n",
    "model.add(Dense(39, activation='softmax'))\n",
    "\n",
    "model.summary()\n"
   ]
  },
  {
   "cell_type": "code",
   "execution_count": 21,
   "id": "d531841f",
   "metadata": {},
   "outputs": [],
   "source": [
    "model.compile(loss=\"sparse_categorical_crossentropy\", optimizer=\"adam\")"
   ]
  },
  {
   "cell_type": "code",
   "execution_count": 22,
   "id": "38aaf673",
   "metadata": {},
   "outputs": [],
   "source": [
    "from keras.callbacks import EarlyStopping, LearningRateScheduler\n",
    "early_stopping = EarlyStopping(\n",
    "    monitor=\"val_loss\",\n",
    "    mode=\"min\",\n",
    "    patience=10,\n",
    ")"
   ]
  },
  {
   "cell_type": "code",
   "execution_count": 25,
   "id": "746459e9",
   "metadata": {},
   "outputs": [
    {
     "name": "stdout",
     "output_type": "stream",
     "text": [
      "\n",
      "Epoch 1: LearningRateScheduler setting learning rate to 0.0010000000474974513.\n",
      "Epoch 1/10\n",
      "3503/3503 [==============================] - 13s 4ms/step - loss: 3.6627 - val_loss: 3.5357 - lr: 0.0010\n",
      "\n",
      "Epoch 2: LearningRateScheduler setting learning rate to 0.0009999000574917021.\n",
      "Epoch 2/10\n",
      "3503/3503 [==============================] - 13s 4ms/step - loss: 3.6046 - val_loss: 3.5472 - lr: 9.9990e-04\n",
      "\n",
      "Epoch 3: LearningRateScheduler setting learning rate to 0.000999700106714659.\n",
      "Epoch 3/10\n",
      "3503/3503 [==============================] - 13s 4ms/step - loss: 3.7376 - val_loss: 3.4690 - lr: 9.9970e-04\n",
      "\n",
      "Epoch 4: LearningRateScheduler setting learning rate to 0.0009994003415259673.\n",
      "Epoch 4/10\n",
      "3503/3503 [==============================] - 17s 5ms/step - loss: 3.6957 - val_loss: 3.4741 - lr: 9.9940e-04\n",
      "\n",
      "Epoch 5: LearningRateScheduler setting learning rate to 0.0009990007918579775.\n",
      "Epoch 5/10\n",
      "3503/3503 [==============================] - 16s 5ms/step - loss: 3.6906 - val_loss: 3.4651 - lr: 9.9900e-04\n",
      "\n",
      "Epoch 6: LearningRateScheduler setting learning rate to 0.0009985014876310735.\n",
      "Epoch 6/10\n",
      "3503/3503 [==============================] - 15s 4ms/step - loss: 3.7549 - val_loss: 3.5502 - lr: 9.9850e-04\n",
      "\n",
      "Epoch 7: LearningRateScheduler setting learning rate to 0.0009979026914447063.\n",
      "Epoch 7/10\n",
      "3503/3503 [==============================] - 16s 5ms/step - loss: 3.7119 - val_loss: 3.5366 - lr: 9.9790e-04\n",
      "\n",
      "Epoch 8: LearningRateScheduler setting learning rate to 0.0009972046657933619.\n",
      "Epoch 8/10\n",
      "3503/3503 [==============================] - 16s 5ms/step - loss: 3.8538 - val_loss: 3.5616 - lr: 9.9720e-04\n",
      "\n",
      "Epoch 9: LearningRateScheduler setting learning rate to 0.0009964075567443476.\n",
      "Epoch 9/10\n",
      "3503/3503 [==============================] - 16s 5ms/step - loss: 3.5645 - val_loss: 3.4545 - lr: 9.9641e-04\n",
      "\n",
      "Epoch 10: LearningRateScheduler setting learning rate to 0.0009955116266172385.\n",
      "Epoch 10/10\n",
      "3503/3503 [==============================] - 15s 4ms/step - loss: 3.8263 - val_loss: 3.4241 - lr: 9.9551e-04\n"
     ]
    }
   ],
   "source": [
    "import math\n",
    "\n",
    "initial_learning_rate = 0.01\n",
    "epochs = 100\n",
    "decay = initial_learning_rate / epochs\n",
    "\n",
    "def lr_time_based_decay(epoch, lr):\n",
    "    return lr * 1 / (1 + decay * epoch)\n",
    "\n",
    "history = model.fit(\n",
    "  X_df_train,\n",
    "  Y_df_train[0],\n",
    "  batch_size=200,\n",
    "  epochs=10,\n",
    "  verbose=1,\n",
    "  validation_split=.2,\n",
    "  class_weight=class_weight,\n",
    "  callbacks=[early_stopping, LearningRateScheduler(lr_time_based_decay, verbose=1)]\n",
    ")\n"
   ]
  },
  {
   "cell_type": "code",
   "execution_count": 27,
   "id": "619f910e",
   "metadata": {},
   "outputs": [],
   "source": [
    "m = model.predict(X_df_test)"
   ]
  },
  {
   "cell_type": "code",
   "execution_count": 31,
   "id": "dfa88ca3",
   "metadata": {},
   "outputs": [
    {
     "data": {
      "text/plain": [
       "2.3042483e-19"
      ]
     },
     "execution_count": 31,
     "metadata": {},
     "output_type": "execute_result"
    }
   ],
   "source": [
    "min(m[0]"
   ]
  },
  {
   "cell_type": "code",
   "execution_count": 19,
   "id": "a677100e",
   "metadata": {},
   "outputs": [],
   "source": [
    "import keras\n",
    "def plot_history(history: keras.callbacks.History):\n",
    "  \"\"\"\n",
    "  plot the training and validation loss for each training epoch\n",
    "\n",
    "  history: a History object, output of the .fit method of a keras model\n",
    "  \"\"\"\n",
    "  n = len(history.history['loss'])\n",
    "  plt.plot(np.arange(n), history.history['loss'], label=\"training loss\")\n",
    "  plt.plot(np.arange(n), history.history['val_loss'], label=\"validation loss\")\n",
    "  plt.xticks(range(0, n + 1, 2))\n",
    "  plt.legend()\n",
    "  plt.show()"
   ]
  },
  {
   "cell_type": "code",
   "execution_count": 20,
   "id": "a265294c",
   "metadata": {},
   "outputs": [
    {
     "data": {
      "image/png": "[encoded data removed]",
      "text/plain": [
       "<Figure size 640x480 with 1 Axes>"
      ]
     },
     "metadata": {},
     "output_type": "display_data"
    }
   ],
   "source": [
    "plot_history(history)"
   ]
  },
  {
   "cell_type": "markdown",
   "id": "f14741f7",
   "metadata": {},
   "source": [
    "#### GradientBoostingClassifier"
   ]
  },
  {
   "cell_type": "code",
   "execution_count": null,
   "id": "a1ef5ccc",
   "metadata": {},
   "outputs": [],
   "source": [
    "from sklearn.ensemble import GradientBoostingClassifier\n",
    "\n",
    "clf = GradientBoostingClassifier(n_estimators=150, max_depth=8, random_state=0).fit(x_train, y_train)\n"
   ]
  },
  {
   "cell_type": "code",
   "execution_count": null,
   "id": "23b77f5b",
   "metadata": {},
   "outputs": [],
   "source": [
    "y_preds = clf.predict_proba(x_test)\n",
    "test_log_loss = log_loss(y_test, y_preds)\n",
    "print(\"Testing Log Loss:\", test_log_loss)"
   ]
  },
  {
   "cell_type": "markdown",
   "id": "315b3a61",
   "metadata": {},
   "source": [
    "#### RandomForestClassifier"
   ]
  },
  {
   "cell_type": "code",
   "execution_count": 70,
   "id": "1cae9d4d",
   "metadata": {},
   "outputs": [
    {
     "data": {
      "text/plain": [
       "RandomForestClassifier(class_weight='balanced', max_depth=100, n_estimators=150,\n",
       "                       random_state=0)"
      ]
     },
     "execution_count": 70,
     "metadata": {},
     "output_type": "execute_result"
    }
   ],
   "source": [
    "from sklearn.ensemble import RandomForestClassifier\n",
    "\n",
    "clf = RandomForestClassifier(max_depth=100, random_state=0, class_weight=\"balanced\",n_estimators=150)\n",
    "clf.fit(x_train, y_train)\n",
    "\n",
    "#y_pred = clf.predict(x_test)\n"
   ]
  },
  {
   "cell_type": "code",
   "execution_count": 71,
   "id": "cd5263f2",
   "metadata": {},
   "outputs": [
    {
     "name": "stdout",
     "output_type": "stream",
     "text": [
      "Testing Log Loss: 3.440130711844978\n"
     ]
    }
   ],
   "source": [
    "from sklearn.metrics import log_loss\n",
    "\n",
    "\n",
    "y_preds = clf.predict_proba(x_test)\n",
    "test_log_loss = log_loss(y_test, y_preds)\n",
    "print(\"Testing Log Loss:\", test_log_loss)\n"
   ]
  },
  {
   "cell_type": "code",
   "execution_count": null,
   "id": "08bc2f97",
   "metadata": {},
   "outputs": [],
   "source": []
  }
 ],
 "metadata": {
  "kernelspec": {
   "display_name": "Python 3 (ipykernel)",
   "language": "python",
   "name": "python3"
  },
  "language_info": {
   "codemirror_mode": {
    "name": "ipython",
    "version": 3
   },
   "file_extension": ".py",
   "mimetype": "text/x-python",
   "name": "python",
   "nbconvert_exporter": "python",
   "pygments_lexer": "ipython3",
   "version": "3.9.7"
  }
 },
 "nbformat": 4,
 "nbformat_minor": 5
}
