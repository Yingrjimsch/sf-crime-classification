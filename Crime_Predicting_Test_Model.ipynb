{
 "cells": [
  {
   "cell_type": "code",
   "execution_count": 1,
   "id": "8923e327",
   "metadata": {},
   "outputs": [],
   "source": [
    "import pandas as pd\n",
    "import numpy as np\n",
    "from matplotlib import pyplot as plt\n",
    "from sklearn.model_selection import train_test_split\n",
    "from seaborn import heatmap\n",
    "from sklearn import tree\n",
    "import seaborn as sns\n",
    "from keras.models import Sequential\n",
    "import preprocessing as pp"
   ]
  },
  {
   "cell_type": "code",
   "execution_count": 23,
   "id": "531ca704",
   "metadata": {},
   "outputs": [
    {
     "name": "stdout",
     "output_type": "stream",
     "text": [
      "=================================================\n",
      "=========== START PREPROCESSING =================\n",
      "=================================================\n",
      "========= Loaded data and sorted category=============\n",
      "========= Removed outliers =============\n",
      "========= Removed duplicated rows =============\n",
      "========= Factorized our Y =============\n",
      "========= Factorized our DayOfWeek =============\n",
      "========= Start K-Means =============\n",
      "========= End K-Means =============\n",
      "========= Mapped cluster-centers =============\n",
      "========= Created feature weekend =============\n",
      "========= Generated basic X =============\n",
      "========= One hot Encoded PdDistrict =============\n",
      "========= Addeds features to X from address =============\n"
     ]
    },
    {
     "name": "stderr",
     "output_type": "stream",
     "text": [
      "C:\\Users\\axgno01\\Schule\\sf-crime-classification\\preprocessing.py:147: FutureWarning: The frame.append method is deprecated and will be removed from pandas in a future version. Use pandas.concat instead.\n",
      "  df_temp_data_0 = df_temp_data_0.append(df_temp_data_1, ignore_index = True).append(df_temp_data_2, ignore_index = True).append(df_temp_data_3, ignore_index = True).append(df_temp_data_4, ignore_index = True).append(df_temp_data_5, ignore_index = True).append(df_temp_data_6, ignore_index = True)\n"
     ]
    },
    {
     "name": "stdout",
     "output_type": "stream",
     "text": [
      "========= Imported weather-data =============\n",
      "========= One hot Encoded conditions =============\n",
      "=================================================\n",
      "=========== END PREPROCESSING =================\n",
      "=================================================\n",
      "=================================================\n",
      "=========== START PREPROCESSING =================\n",
      "=================================================\n",
      "========= Loaded data and sorted category=============\n",
      "========= Removed outliers =============\n",
      "========= Removed duplicated rows =============\n",
      "========= Factorized our Y =============\n",
      "========= Factorized our DayOfWeek =============\n",
      "========= Start K-Means =============\n",
      "========= End K-Means =============\n",
      "========= Mapped cluster-centers =============\n",
      "========= Created feature weekend =============\n",
      "========= Generated basic X =============\n",
      "========= One hot Encoded PdDistrict =============\n",
      "========= Addeds features to X from address =============\n"
     ]
    },
    {
     "name": "stderr",
     "output_type": "stream",
     "text": [
      "C:\\Users\\axgno01\\Schule\\sf-crime-classification\\preprocessing.py:147: FutureWarning: The frame.append method is deprecated and will be removed from pandas in a future version. Use pandas.concat instead.\n",
      "  df_temp_data_0 = df_temp_data_0.append(df_temp_data_1, ignore_index = True).append(df_temp_data_2, ignore_index = True).append(df_temp_data_3, ignore_index = True).append(df_temp_data_4, ignore_index = True).append(df_temp_data_5, ignore_index = True).append(df_temp_data_6, ignore_index = True)\n"
     ]
    },
    {
     "name": "stdout",
     "output_type": "stream",
     "text": [
      "========= Imported weather-data =============\n",
      "========= One hot Encoded conditions =============\n",
      "=================================================\n",
      "=========== END PREPROCESSING =================\n",
      "=================================================\n"
     ]
    }
   ],
   "source": [
    "#Aufruf py file\n",
    "\n",
    "Y_df_train, X_df_train = pp.preprocessing()\n",
    "Y_df_test, X_df_test = pp.preprocessing(\"test.csv\")"
   ]
  },
  {
   "cell_type": "code",
   "execution_count": 24,
   "id": "fc119a1a",
   "metadata": {},
   "outputs": [
    {
     "data": {
      "text/plain": [
       "{0: 0.5328522408286036,\n",
       " 1: 0.17827743401217117,\n",
       " 2: 0.12881325763342918,\n",
       " 3: 0.41813872044611194,\n",
       " 4: 0.5036517467876822,\n",
       " 5: 0.2442884406849547,\n",
       " 6: 0.9767605547394124,\n",
       " 7: 0.29231223225572994,\n",
       " 8: 2.62605787974209,\n",
       " 9: 0.6134811025381806,\n",
       " 10: 0.7152393881178285,\n",
       " 11: 5.24965977830135,\n",
       " 12: 2.119788035479123,\n",
       " 13: 0.41641712331079717,\n",
       " 14: 4.949910686021797,\n",
       " 15: 2.250004496622394,\n",
       " 16: 3.0685793182718153,\n",
       " 17: 0.8747046971753817,\n",
       " 18: 1.349569926777356,\n",
       " 19: 9.595211483673022,\n",
       " 20: 11.854696342024747,\n",
       " 21: 9.899821372043593,\n",
       " 22: 5.127379509430206,\n",
       " 23: 3.0154169851994186,\n",
       " 24: 5.208256755229615,\n",
       " 25: 14.849732058065392,\n",
       " 26: 46.009825556956706,\n",
       " 27: 11.82348334481036,\n",
       " 28: 77.69133173631444,\n",
       " 29: 19.289342673363294,\n",
       " 30: 44.19841510195841,\n",
       " 31: 18.602149852356977,\n",
       " 32: 151.70807345807347,\n",
       " 33: 87.70622996794872,\n",
       " 34: 153.78626624517037,\n",
       " 35: 55.30245042314008,\n",
       " 36: 3742.1324786324785,\n",
       " 37: 7.1688361659626025,\n",
       " 38: 1020.5815850815851}"
      ]
     },
     "execution_count": 24,
     "metadata": {},
     "output_type": "execute_result"
    }
   ],
   "source": [
    "from sklearn.utils import class_weight\n",
    "class_weight = class_weight.compute_class_weight(class_weight='balanced', classes=np.unique(Y_df_train[0]), y=Y_df_train[0])\n",
    "class_weight = {v: k for v, k in enumerate(class_weight)}\n",
    "class_weight"
   ]
  },
  {
   "cell_type": "code",
   "execution_count": 25,
   "id": "e793ba5b",
   "metadata": {},
   "outputs": [],
   "source": [
    "X_df_train = (X_df_train - X_df_train.mean())/ X_df_train.std()\n",
    "X_df_test = (X_df_test - X_df_test.mean())/ X_df_test.std()\n",
    "X_df_test['temp'] = X_df_test['temp'].fillna(10) #why are temp nan?"
   ]
  },
  {
   "cell_type": "code",
   "execution_count": 39,
   "id": "ebec8ff7",
   "metadata": {},
   "outputs": [
    {
     "ename": "ImportError",
     "evalue": "cannot import name 'to_categorical' from 'keras.utils' (C:\\Users\\axgno01\\AppData\\Roaming\\Python\\Python39\\site-packages\\keras\\utils\\__init__.py)",
     "output_type": "error",
     "traceback": [
      "\u001b[1;31m---------------------------------------------------------------------------\u001b[0m",
      "\u001b[1;31mImportError\u001b[0m                               Traceback (most recent call last)",
      "Input \u001b[1;32mIn [39]\u001b[0m, in \u001b[0;36m<cell line: 1>\u001b[1;34m()\u001b[0m\n\u001b[1;32m----> 1\u001b[0m \u001b[38;5;28;01mfrom\u001b[39;00m \u001b[38;5;21;01mkeras\u001b[39;00m\u001b[38;5;21;01m.\u001b[39;00m\u001b[38;5;21;01mutils\u001b[39;00m \u001b[38;5;28;01mimport\u001b[39;00m to_categorical\n\u001b[0;32m      3\u001b[0m to_categorical(\n\u001b[0;32m      4\u001b[0m     Y_df_train[\u001b[38;5;241m0\u001b[39m], num_classes\u001b[38;5;241m=\u001b[39m\u001b[38;5;28;01mNone\u001b[39;00m, dtype\u001b[38;5;241m=\u001b[39m\u001b[38;5;124m'\u001b[39m\u001b[38;5;124mfloat32\u001b[39m\u001b[38;5;124m'\u001b[39m\n\u001b[0;32m      5\u001b[0m )\n",
      "\u001b[1;31mImportError\u001b[0m: cannot import name 'to_categorical' from 'keras.utils' (C:\\Users\\axgno01\\AppData\\Roaming\\Python\\Python39\\site-packages\\keras\\utils\\__init__.py)"
     ]
    }
   ],
   "source": [
    "from keras.utils import to_categorical\n",
    "\n",
    "to_categorical(\n",
    "    Y_df_train[0], num_classes=None, dtype='float32'\n",
    ")"
   ]
  },
  {
   "cell_type": "code",
   "execution_count": 26,
   "id": "983d0303",
   "metadata": {},
   "outputs": [
    {
     "data": {
      "text/plain": [
       "array([[1., 0., 0., 0., 0., 0., 0., 0., 0., 0., 0., 0., 0., 0., 0., 0.,\n",
       "        0., 0., 0., 0., 0., 0., 0., 0., 0., 0., 0., 0., 0., 0., 0., 0.,\n",
       "        0., 0., 0., 0., 0., 0., 0.],\n",
       "       [0., 1., 0., 0., 0., 0., 0., 0., 0., 0., 0., 0., 0., 0., 0., 0.,\n",
       "        0., 0., 0., 0., 0., 0., 0., 0., 0., 0., 0., 0., 0., 0., 0., 0.,\n",
       "        0., 0., 0., 0., 0., 0., 0.],\n",
       "       [0., 1., 0., 0., 0., 0., 0., 0., 0., 0., 0., 0., 0., 0., 0., 0.,\n",
       "        0., 0., 0., 0., 0., 0., 0., 0., 0., 0., 0., 0., 0., 0., 0., 0.,\n",
       "        0., 0., 0., 0., 0., 0., 0.],\n",
       "       [0., 0., 1., 0., 0., 0., 0., 0., 0., 0., 0., 0., 0., 0., 0., 0.,\n",
       "        0., 0., 0., 0., 0., 0., 0., 0., 0., 0., 0., 0., 0., 0., 0., 0.,\n",
       "        0., 0., 0., 0., 0., 0., 0.],\n",
       "       [0., 0., 1., 0., 0., 0., 0., 0., 0., 0., 0., 0., 0., 0., 0., 0.,\n",
       "        0., 0., 0., 0., 0., 0., 0., 0., 0., 0., 0., 0., 0., 0., 0., 0.,\n",
       "        0., 0., 0., 0., 0., 0., 0.]])"
      ]
     },
     "execution_count": 26,
     "metadata": {},
     "output_type": "execute_result"
    }
   ],
   "source": [
    "Y = np.zeros((Y_df_train[0].size, Y_df_train[0].max() + 1))\n",
    "Y[np.arange(Y_df_train[0].size), Y_df_train[0]] = 1\n",
    "Y[:5]"
   ]
  },
  {
   "cell_type": "code",
   "execution_count": 27,
   "id": "08a9cad2",
   "metadata": {},
   "outputs": [
    {
     "name": "stdout",
     "output_type": "stream",
     "text": [
      "Model: \"sequential_1\"\n",
      "_________________________________________________________________\n",
      " Layer (type)                Output Shape              Param #   \n",
      "=================================================================\n",
      " dense_3 (Dense)             (None, 128)               4736      \n",
      "                                                                 \n",
      " dropout_1 (Dropout)         (None, 128)               0         \n",
      "                                                                 \n",
      " dense_4 (Dense)             (None, 64)                8256      \n",
      "                                                                 \n",
      " dense_5 (Dense)             (None, 39)                2535      \n",
      "                                                                 \n",
      "=================================================================\n",
      "Total params: 15,527\n",
      "Trainable params: 15,527\n",
      "Non-trainable params: 0\n",
      "_________________________________________________________________\n"
     ]
    }
   ],
   "source": [
    "from keras.models import Sequential\n",
    "from keras.layers import Input, Flatten, Dense, Dropout\n",
    "\n",
    "model = Sequential()\n",
    "\n",
    "#220, 110, 0.2\n",
    "model.add(Input(shape=X_df_train.shape[1]))\n",
    "model.add(Dense(128, activation='relu'))\n",
    "model.add(Dropout(rate=0.2))\n",
    "model.add(Dense(64, activation='relu'))\n",
    "#model.add(Dropout(rate=0.2))\n",
    "#model.add(Dense(55, activation='relu'))\n",
    "#model.add(Dropout(rate=0.1))\n",
    "model.add(Dense(39, activation='softmax'))\n",
    "\n",
    "model.summary()\n"
   ]
  },
  {
   "cell_type": "code",
   "execution_count": 28,
   "id": "d531841f",
   "metadata": {},
   "outputs": [],
   "source": [
    "model.compile(loss=\"categorical_crossentropy\", optimizer=\"adam\")"
   ]
  },
  {
   "cell_type": "code",
   "execution_count": 29,
   "id": "38aaf673",
   "metadata": {},
   "outputs": [],
   "source": [
    "from keras.callbacks import EarlyStopping, LearningRateScheduler\n",
    "early_stopping = EarlyStopping(\n",
    "    monitor=\"val_loss\",\n",
    "    mode=\"min\",\n",
    "    patience=10,\n",
    ")"
   ]
  },
  {
   "cell_type": "code",
   "execution_count": 30,
   "id": "746459e9",
   "metadata": {},
   "outputs": [
    {
     "name": "stdout",
     "output_type": "stream",
     "text": [
      "3503/3503 [==============================] - 10s 3ms/step - loss: 3.5637 - val_loss: 3.5620\n"
     ]
    }
   ],
   "source": [
    "import math\n",
    "\n",
    "initial_learning_rate = 0.01\n",
    "epochs = 100\n",
    "decay = initial_learning_rate / epochs\n",
    "\n",
    "def lr_time_based_decay(epoch, lr):\n",
    "    return lr * 1 / (1 + decay * epoch)\n",
    "\n",
    "history = model.fit(\n",
    "  X_df_train,\n",
    "  Y,\n",
    "  batch_size=200,\n",
    "  epochs=1,\n",
    "  verbose=1,\n",
    "  validation_split=.2,\n",
    "  class_weight=class_weight,\n",
    "  #callbacks=[early_stopping, LearningRateScheduler(lr_time_based_decay, verbose=1)]\n",
    ")\n"
   ]
  },
  {
   "cell_type": "code",
   "execution_count": 32,
   "id": "619f910e",
   "metadata": {},
   "outputs": [],
   "source": [
    "m = model.predict(X_df_test)"
   ]
  },
  {
   "cell_type": "code",
   "execution_count": 33,
   "id": "dfa88ca3",
   "metadata": {},
   "outputs": [
    {
     "data": {
      "text/html": [
       "<div>\n",
       "<style scoped>\n",
       "    .dataframe tbody tr th:only-of-type {\n",
       "        vertical-align: middle;\n",
       "    }\n",
       "\n",
       "    .dataframe tbody tr th {\n",
       "        vertical-align: top;\n",
       "    }\n",
       "\n",
       "    .dataframe thead th {\n",
       "        text-align: right;\n",
       "    }\n",
       "</style>\n",
       "<table border=\"1\" class=\"dataframe\">\n",
       "  <thead>\n",
       "    <tr style=\"text-align: right;\">\n",
       "      <th></th>\n",
       "      <th>DayOfWeek</th>\n",
       "      <th>Weekend</th>\n",
       "      <th>CoordinateClusters</th>\n",
       "      <th>X</th>\n",
       "      <th>Y</th>\n",
       "      <th>year</th>\n",
       "      <th>month</th>\n",
       "      <th>quarter</th>\n",
       "      <th>hour</th>\n",
       "      <th>minute</th>\n",
       "      <th>...</th>\n",
       "      <th>crossing</th>\n",
       "      <th>temp</th>\n",
       "      <th>Partially cloudy</th>\n",
       "      <th>Overcast</th>\n",
       "      <th>Rain, Partially cloudy</th>\n",
       "      <th>Clear</th>\n",
       "      <th>Rain, Overcast</th>\n",
       "      <th>Rain</th>\n",
       "      <th>X_centroids</th>\n",
       "      <th>Y_centroids</th>\n",
       "    </tr>\n",
       "  </thead>\n",
       "  <tbody>\n",
       "    <tr>\n",
       "      <th>454152</th>\n",
       "      <td>0.500419</td>\n",
       "      <td>-0.616372</td>\n",
       "      <td>0.04183</td>\n",
       "      <td>0.838621</td>\n",
       "      <td>0.054447</td>\n",
       "      <td>-0.19345</td>\n",
       "      <td>1.639985</td>\n",
       "      <td>1.388748</td>\n",
       "      <td>1.464267</td>\n",
       "      <td>1.872437</td>\n",
       "      <td>...</td>\n",
       "      <td>-0.64915</td>\n",
       "      <td>10.0</td>\n",
       "      <td>0.570299</td>\n",
       "      <td>-0.285536</td>\n",
       "      <td>2.116004</td>\n",
       "      <td>-0.428891</td>\n",
       "      <td>-0.242217</td>\n",
       "      <td>1.71989</td>\n",
       "      <td>0.25344</td>\n",
       "      <td>0.021239</td>\n",
       "    </tr>\n",
       "  </tbody>\n",
       "</table>\n",
       "<p>1 rows × 36 columns</p>\n",
       "</div>"
      ],
      "text/plain": [
       "        DayOfWeek   Weekend  CoordinateClusters         X         Y     year  \\\n",
       "454152   0.500419 -0.616372             0.04183  0.838621  0.054447 -0.19345   \n",
       "\n",
       "           month   quarter      hour    minute  ...  crossing  temp  \\\n",
       "454152  1.639985  1.388748  1.464267  1.872437  ...  -0.64915  10.0   \n",
       "\n",
       "        Partially cloudy  Overcast  Rain, Partially cloudy     Clear  \\\n",
       "454152          0.570299 -0.285536                2.116004 -0.428891   \n",
       "\n",
       "        Rain, Overcast     Rain  X_centroids  Y_centroids  \n",
       "454152       -0.242217  1.71989      0.25344     0.021239  \n",
       "\n",
       "[1 rows x 36 columns]"
      ]
     },
     "execution_count": 33,
     "metadata": {},
     "output_type": "execute_result"
    }
   ],
   "source": [
    "max(m[0])\n",
    "X_df_test.iloc[[454152]]"
   ]
  },
  {
   "cell_type": "code",
   "execution_count": 34,
   "id": "e868e450",
   "metadata": {},
   "outputs": [
    {
     "name": "stdout",
     "output_type": "stream",
     "text": [
      "(884262, 39)\n",
      "(884262, 36)\n",
      "(39,)\n"
     ]
    }
   ],
   "source": [
    "df = pd.DataFrame(m,columns=np.unique(Y_df_train[1]) )\n",
    "np.unique(Y_df_train[1])\n",
    "print(m.shape)\n",
    "print(X_df_test.shape)\n",
    "print(Y_df_train[1].shape)\n",
    "df.to_csv(\"out.csv\", index = True)"
   ]
  },
  {
   "cell_type": "code",
   "execution_count": 30,
   "id": "a677100e",
   "metadata": {},
   "outputs": [],
   "source": [
    "import keras\n",
    "def plot_history(history: keras.callbacks.History):\n",
    "  \"\"\"\n",
    "  plot the training and validation loss for each training epoch\n",
    "\n",
    "  history: a History object, output of the .fit method of a keras model\n",
    "  \"\"\"\n",
    "  n = len(history.history['loss'])\n",
    "  plt.plot(np.arange(n), history.history['loss'], label=\"training loss\")\n",
    "  plt.plot(np.arange(n), history.history['val_loss'], label=\"validation loss\")\n",
    "  plt.xticks(range(0, n + 1, 2))\n",
    "  plt.legend()\n",
    "  plt.show()"
   ]
  },
  {
   "cell_type": "code",
   "execution_count": 31,
   "id": "a265294c",
   "metadata": {},
   "outputs": [
    {
     "data": {
      "image/png": "[encoded data removed]",
      "text/plain": [
       "<Figure size 432x288 with 1 Axes>"
      ]
     },
     "metadata": {
      "needs_background": "light"
     },
     "output_type": "display_data"
    }
   ],
   "source": [
    "plot_history(history)"
   ]
  },
  {
   "cell_type": "markdown",
   "id": "f14741f7",
   "metadata": {},
   "source": [
    "#### GradientBoostingClassifier"
   ]
  },
  {
   "cell_type": "code",
   "execution_count": null,
   "id": "a1ef5ccc",
   "metadata": {},
   "outputs": [],
   "source": [
    "from sklearn.ensemble import GradientBoostingClassifier\n",
    "\n",
    "clf = GradientBoostingClassifier(n_estimators=150, max_depth=8, random_state=0).fit(x_train, y_train)\n"
   ]
  },
  {
   "cell_type": "code",
   "execution_count": null,
   "id": "23b77f5b",
   "metadata": {},
   "outputs": [],
   "source": [
    "y_preds = clf.predict_proba(x_test)\n",
    "test_log_loss = log_loss(y_test, y_preds)\n",
    "print(\"Testing Log Loss:\", test_log_loss)"
   ]
  },
  {
   "cell_type": "markdown",
   "id": "315b3a61",
   "metadata": {},
   "source": [
    "#### RandomForestClassifier"
   ]
  },
  {
   "cell_type": "code",
   "execution_count": 70,
   "id": "1cae9d4d",
   "metadata": {},
   "outputs": [
    {
     "data": {
      "text/plain": [
       "RandomForestClassifier(class_weight='balanced', max_depth=100, n_estimators=150,\n",
       "                       random_state=0)"
      ]
     },
     "execution_count": 70,
     "metadata": {},
     "output_type": "execute_result"
    }
   ],
   "source": [
    "from sklearn.ensemble import RandomForestClassifier\n",
    "\n",
    "clf = RandomForestClassifier(max_depth=100, random_state=0, class_weight=\"balanced\",n_estimators=150)\n",
    "clf.fit(x_train, y_train)\n",
    "\n",
    "#y_pred = clf.predict(x_test)\n"
   ]
  },
  {
   "cell_type": "code",
   "execution_count": 71,
   "id": "cd5263f2",
   "metadata": {},
   "outputs": [
    {
     "name": "stdout",
     "output_type": "stream",
     "text": [
      "Testing Log Loss: 3.440130711844978\n"
     ]
    }
   ],
   "source": [
    "from sklearn.metrics import log_loss\n",
    "\n",
    "\n",
    "y_preds = clf.predict_proba(x_test)\n",
    "test_log_loss = log_loss(y_test, y_preds)\n",
    "print(\"Testing Log Loss:\", test_log_loss)\n"
   ]
  },
  {
   "cell_type": "code",
   "execution_count": null,
   "id": "08bc2f97",
   "metadata": {},
   "outputs": [],
   "source": []
  }
 ],
 "metadata": {
  "kernelspec": {
   "display_name": "Python 3 (ipykernel)",
   "language": "python",
   "name": "python3"
  },
  "language_info": {
   "codemirror_mode": {
    "name": "ipython",
    "version": 3
   },
   "file_extension": ".py",
   "mimetype": "text/x-python",
   "name": "python",
   "nbconvert_exporter": "python",
   "pygments_lexer": "ipython3",
   "version": "3.9.7"
  }
 },
 "nbformat": 4,
 "nbformat_minor": 5
}
