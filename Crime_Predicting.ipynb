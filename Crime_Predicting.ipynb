{
 "cells": [
  {
   "cell_type": "markdown",
   "id": "31956c74",
   "metadata": {},
   "source": [
    "## Predicting Crime Categories"
   ]
  },
  {
   "cell_type": "markdown",
   "id": "ffdf13ed",
   "metadata": {},
   "source": [
    "#### Import statements"
   ]
  },
  {
   "cell_type": "code",
   "execution_count": 103,
   "id": "d6878a2f",
   "metadata": {},
   "outputs": [],
   "source": [
    "import pandas as pd\n",
    "from matplotlib import pyplot as plt\n",
    "from sklearn.model_selection import train_test_split\n",
    "from sklearn.metrics import classification_report\n",
    "from sklearn.ensemble import RandomForestClassifier"
   ]
  },
  {
   "cell_type": "markdown",
   "id": "64a273ce",
   "metadata": {},
   "source": [
    "#### Importing train data "
   ]
  },
  {
   "cell_type": "code",
   "execution_count": 104,
   "id": "bdb4c158",
   "metadata": {},
   "outputs": [
    {
     "name": "stdout",
     "output_type": "stream",
     "text": [
      "                 Dates        Category                      Descript  \\\n",
      "0  2015-05-13 23:53:00        WARRANTS                WARRANT ARREST   \n",
      "1  2015-05-13 23:53:00  OTHER OFFENSES      TRAFFIC VIOLATION ARREST   \n",
      "2  2015-05-13 23:33:00  OTHER OFFENSES      TRAFFIC VIOLATION ARREST   \n",
      "3  2015-05-13 23:30:00   LARCENY/THEFT  GRAND THEFT FROM LOCKED AUTO   \n",
      "4  2015-05-13 23:30:00   LARCENY/THEFT  GRAND THEFT FROM LOCKED AUTO   \n",
      "\n",
      "   DayOfWeek PdDistrict      Resolution                    Address  \\\n",
      "0  Wednesday   NORTHERN  ARREST, BOOKED         OAK ST / LAGUNA ST   \n",
      "1  Wednesday   NORTHERN  ARREST, BOOKED         OAK ST / LAGUNA ST   \n",
      "2  Wednesday   NORTHERN  ARREST, BOOKED  VANNESS AV / GREENWICH ST   \n",
      "3  Wednesday   NORTHERN            NONE   1500 Block of LOMBARD ST   \n",
      "4  Wednesday       PARK            NONE  100 Block of BRODERICK ST   \n",
      "\n",
      "            X          Y  \n",
      "0 -122.425892  37.774599  \n",
      "1 -122.425892  37.774599  \n",
      "2 -122.424363  37.800414  \n",
      "3 -122.426995  37.800873  \n",
      "4 -122.438738  37.771541  \n"
     ]
    }
   ],
   "source": [
    "df_train_origin = pd.read_csv(\"train.csv\")\n",
    "print(df_train_origin.head())"
   ]
  },
  {
   "cell_type": "markdown",
   "id": "e16d66b4",
   "metadata": {},
   "source": [
    "#### Importing test data "
   ]
  },
  {
   "cell_type": "code",
   "execution_count": 105,
   "id": "8a25ac90",
   "metadata": {},
   "outputs": [],
   "source": [
    "import pandas as pd\n",
    "\n",
    "df_test_origin = pd.read_csv(\"test.csv\")\n",
    "#print(df_test_origin)"
   ]
  },
  {
   "cell_type": "markdown",
   "id": "256e29f9",
   "metadata": {},
   "source": [
    "#### Information about the data"
   ]
  },
  {
   "cell_type": "code",
   "execution_count": 106,
   "id": "614fc537",
   "metadata": {},
   "outputs": [
    {
     "data": {
      "text/plain": [
       "Index(['Dates', 'Category', 'Descript', 'DayOfWeek', 'PdDistrict',\n",
       "       'Resolution', 'Address', 'X', 'Y'],\n",
       "      dtype='object')"
      ]
     },
     "execution_count": 106,
     "metadata": {},
     "output_type": "execute_result"
    }
   ],
   "source": [
    "df_train_origin.columns"
   ]
  },
  {
   "cell_type": "code",
   "execution_count": 107,
   "id": "71d1b5c8",
   "metadata": {},
   "outputs": [
    {
     "name": "stdout",
     "output_type": "stream",
     "text": [
      "<class 'pandas.core.frame.DataFrame'>\n",
      "RangeIndex: 878049 entries, 0 to 878048\n",
      "Data columns (total 9 columns):\n",
      " #   Column      Non-Null Count   Dtype  \n",
      "---  ------      --------------   -----  \n",
      " 0   Dates       878049 non-null  object \n",
      " 1   Category    878049 non-null  object \n",
      " 2   Descript    878049 non-null  object \n",
      " 3   DayOfWeek   878049 non-null  object \n",
      " 4   PdDistrict  878049 non-null  object \n",
      " 5   Resolution  878049 non-null  object \n",
      " 6   Address     878049 non-null  object \n",
      " 7   X           878049 non-null  float64\n",
      " 8   Y           878049 non-null  float64\n",
      "dtypes: float64(2), object(7)\n",
      "memory usage: 60.3+ MB\n"
     ]
    }
   ],
   "source": [
    "df_train_origin.info()"
   ]
  },
  {
   "cell_type": "markdown",
   "id": "eb30c0ea",
   "metadata": {},
   "source": [
    "#### Detecting outliers"
   ]
  },
  {
   "cell_type": "code",
   "execution_count": 108,
   "id": "3c568f87",
   "metadata": {},
   "outputs": [
    {
     "name": "stdout",
     "output_type": "stream",
     "text": [
      "(-122.51364206429, -120.5, 37.7078790224135, 90.0)\n",
      "sum of Y coordinates outside San Francisco:  67\n"
     ]
    }
   ],
   "source": [
    "#GPS of San Francisco\n",
    "#• Breitengrad von San Francisco:\n",
    "    #37.7562\n",
    "#• Längengrad von San Francisco:\n",
    "    #-122.4430\n",
    "#• GPS Koordinaten von San Francisco:\n",
    "    #37° 45‘ 22.32 N 122° 26‘ 34.8 W\n",
    "\n",
    "coordinates_range = ((df_train_origin.X.min(),   df_train_origin.X.max(),\n",
    "         df_train_origin.Y.min(), df_train_origin.Y.max()))\n",
    "\n",
    "print(coordinates_range)\n",
    "\n",
    "sum = 0\n",
    "for i in df_train_origin.index:\n",
    "    if df_train_origin[\"Y\"][i] > 37.9:\n",
    "        sum +=1\n",
    "print(\"sum of Y coordinates outside San Francisco: \", sum)"
   ]
  },
  {
   "cell_type": "code",
   "execution_count": 74,
   "id": "38a06338",
   "metadata": {},
   "outputs": [
    {
     "name": "stdout",
     "output_type": "stream",
     "text": [
      "(-122.51364206429, -120.5, 37.7078790224135, 90.0)\n",
      "sum of Y coordinates outside San Francisco:  76\n"
     ]
    }
   ],
   "source": [
    "#GPS of San Francisco\n",
    "#• Breitengrad von San Francisco:\n",
    "    #37.7562\n",
    "#• Längengrad von San Francisco:\n",
    "    #-122.4430\n",
    "#• GPS Koordinaten von San Francisco:\n",
    "    #37° 45‘ 22.32 N 122° 26‘ 34.8 W\n",
    "\n",
    "coordinates_range = ((df_test_origin.X.min(),   df_test_origin.X.max(),\n",
    "         df_test_origin.Y.min(), df_test_origin.Y.max()))\n",
    "\n",
    "print(coordinates_range)\n",
    "\n",
    "sum = 0\n",
    "for i in df_test_origin.index:\n",
    "    if df_test_origin[\"Y\"][i] > 37.9:\n",
    "        sum +=1\n",
    "print(\"sum of Y coordinates outside San Francisco: \", sum)"
   ]
  },
  {
   "cell_type": "markdown",
   "id": "2108f3ec",
   "metadata": {},
   "source": [
    "#### Cleaning data"
   ]
  },
  {
   "cell_type": "code",
   "execution_count": 109,
   "id": "d0d6b25d",
   "metadata": {},
   "outputs": [],
   "source": [
    "#remove all records that are not located in San Francisco\n",
    "\n",
    "df_train_origin = df_train_origin[df_train_origin[\"Y\"] < 38]\n",
    "\n",
    "df_test_origin = df_test_origin[df_test_origin[\"Y\"] < 38]\n"
   ]
  },
  {
   "cell_type": "markdown",
   "id": "706611f5",
   "metadata": {},
   "source": [
    "#### Mapping of column category (as our \"Y\")"
   ]
  },
  {
   "cell_type": "code",
   "execution_count": 110,
   "id": "bb1910ba",
   "metadata": {},
   "outputs": [
    {
     "data": {
      "text/plain": [
       "array(['WARRANTS', 'OTHER OFFENSES', 'LARCENY/THEFT', 'VEHICLE THEFT',\n",
       "       'VANDALISM', 'NON-CRIMINAL', 'ROBBERY', 'ASSAULT', 'WEAPON LAWS',\n",
       "       'BURGLARY', 'SUSPICIOUS OCC', 'DRUNKENNESS',\n",
       "       'FORGERY/COUNTERFEITING', 'DRUG/NARCOTIC', 'STOLEN PROPERTY',\n",
       "       'SECONDARY CODES', 'TRESPASS', 'MISSING PERSON', 'FRAUD',\n",
       "       'KIDNAPPING', 'RUNAWAY', 'DRIVING UNDER THE INFLUENCE',\n",
       "       'SEX OFFENSES FORCIBLE', 'PROSTITUTION', 'DISORDERLY CONDUCT',\n",
       "       'ARSON', 'FAMILY OFFENSES', 'LIQUOR LAWS', 'BRIBERY',\n",
       "       'EMBEZZLEMENT', 'SUICIDE', 'LOITERING',\n",
       "       'SEX OFFENSES NON FORCIBLE', 'EXTORTION', 'GAMBLING', 'BAD CHECKS',\n",
       "       'TREA', 'RECOVERED VEHICLE', 'PORNOGRAPHY/OBSCENE MAT'],\n",
       "      dtype=object)"
      ]
     },
     "execution_count": 110,
     "metadata": {},
     "output_type": "execute_result"
    }
   ],
   "source": [
    "#all different categories\n",
    "pd.unique(df_train_origin[\"Category\"])"
   ]
  },
  {
   "cell_type": "code",
   "execution_count": 111,
   "id": "c58c6328",
   "metadata": {},
   "outputs": [
    {
     "name": "stdout",
     "output_type": "stream",
     "text": [
      "{'WARRANTS': 1, 'OTHER OFFENSES': 2, 'LARCENY/THEFT': 3, 'VEHICLE THEFT': 4, 'VANDALISM': 5, 'NON-CRIMINAL': 6, 'ROBBERY': 7, 'ASSAULT': 8, 'WEAPON LAWS': 9, 'BURGLARY': 10, 'SUSPICIOUS OCC': 11, 'DRUNKENNESS': 12, 'FORGERY/COUNTERFEITING': 13, 'DRUG/NARCOTIC': 14, 'STOLEN PROPERTY': 15, 'SECONDARY CODES': 16, 'TRESPASS': 17, 'MISSING PERSON': 18, 'FRAUD': 19, 'KIDNAPPING': 20, 'RUNAWAY': 21, 'DRIVING UNDER THE INFLUENCE': 22, 'SEX OFFENSES FORCIBLE': 23, 'PROSTITUTION': 24, 'DISORDERLY CONDUCT': 25, 'ARSON': 26, 'FAMILY OFFENSES': 27, 'LIQUOR LAWS': 28, 'BRIBERY': 29, 'EMBEZZLEMENT': 30, 'SUICIDE': 31, 'LOITERING': 32, 'SEX OFFENSES NON FORCIBLE': 33, 'EXTORTION': 34, 'GAMBLING': 35, 'BAD CHECKS': 36, 'TREA': 37, 'RECOVERED VEHICLE': 38, 'PORNOGRAPHY/OBSCENE MAT': 39}\n"
     ]
    }
   ],
   "source": [
    "dict_category = {}\n",
    "index = 1\n",
    "for i in pd.unique(df_train_origin[\"Category\"]):\n",
    "    val = {i : index}\n",
    "    dict_category.update(val)\n",
    "    index+=1\n",
    "\n",
    "print(dict_category)"
   ]
  },
  {
   "cell_type": "code",
   "execution_count": 112,
   "id": "d4526b04",
   "metadata": {},
   "outputs": [],
   "source": [
    "#maped column \"Category\"\n",
    "Y_df = df_train_origin[\"Category\"].map(dict_category).fillna(df_train_origin[\"Category\"]).astype(int) # categories"
   ]
  },
  {
   "cell_type": "markdown",
   "id": "43e7166e",
   "metadata": {},
   "source": [
    "#### Mapping of column weekday (as a part of \"X\")"
   ]
  },
  {
   "cell_type": "code",
   "execution_count": 113,
   "id": "a5c4b3b5",
   "metadata": {},
   "outputs": [
    {
     "data": {
      "text/plain": [
       "array(['Wednesday', 'Tuesday', 'Monday', 'Sunday', 'Saturday', 'Friday',\n",
       "       'Thursday'], dtype=object)"
      ]
     },
     "execution_count": 113,
     "metadata": {},
     "output_type": "execute_result"
    }
   ],
   "source": [
    "#all different weekdays\n",
    "pd.unique(df_train_origin[\"DayOfWeek\"])"
   ]
  },
  {
   "cell_type": "code",
   "execution_count": 114,
   "id": "7b378e0d",
   "metadata": {},
   "outputs": [
    {
     "name": "stdout",
     "output_type": "stream",
     "text": [
      "{'Monday': 1, 'Tuesday': 2, 'Wednesday': 3, 'Thursday': 4, 'Friday': 5, 'Saturday': 6, 'Sunday': 7}\n"
     ]
    }
   ],
   "source": [
    "#dict weekday\n",
    "dict_weekday = {\"Monday\" : 1, \"Tuesday\" : 2, \"Wednesday\" : 3, \"Thursday\" : 4, \"Friday\" : 5, \"Saturday\" : 6, \"Sunday\" : 7 }\n",
    "print(dict_weekday)"
   ]
  },
  {
   "cell_type": "code",
   "execution_count": 115,
   "id": "7f28adf7",
   "metadata": {},
   "outputs": [],
   "source": [
    "#maped column \"DayOfWeek\"\n",
    "weekdays = df_train_origin[\"DayOfWeek\"].map(dict_weekday).fillna(df_train_origin[\"DayOfWeek\"]).astype(int)"
   ]
  },
  {
   "cell_type": "markdown",
   "id": "49770ee5",
   "metadata": {},
   "source": [
    "#### Mapping of column PdDistrict (as a part of \"X\")"
   ]
  },
  {
   "cell_type": "code",
   "execution_count": 116,
   "id": "62ad9216",
   "metadata": {},
   "outputs": [
    {
     "data": {
      "text/plain": [
       "array(['NORTHERN', 'PARK', 'INGLESIDE', 'BAYVIEW', 'RICHMOND', 'CENTRAL',\n",
       "       'TARAVAL', 'TENDERLOIN', 'MISSION', 'SOUTHERN'], dtype=object)"
      ]
     },
     "execution_count": 116,
     "metadata": {},
     "output_type": "execute_result"
    }
   ],
   "source": [
    "#all different police department district\n",
    "pd.unique(df_train_origin[\"PdDistrict\"])"
   ]
  },
  {
   "cell_type": "code",
   "execution_count": 117,
   "id": "50e5367c",
   "metadata": {},
   "outputs": [
    {
     "name": "stdout",
     "output_type": "stream",
     "text": [
      "{'NORTHERN': 1, 'PARK': 2, 'INGLESIDE': 3, 'BAYVIEW': 4, 'RICHMOND': 5, 'CENTRAL': 6, 'TARAVAL': 7, 'TENDERLOIN': 8, 'MISSION': 9, 'SOUTHERN': 10}\n"
     ]
    }
   ],
   "source": [
    "dict_PdDistrict = {}\n",
    "index = 1\n",
    "for i in pd.unique(df_train_origin[\"PdDistrict\"]):\n",
    "    val = {i : index}\n",
    "    dict_PdDistrict.update(val)\n",
    "    index+=1\n",
    "\n",
    "print(dict_PdDistrict)"
   ]
  },
  {
   "cell_type": "code",
   "execution_count": 118,
   "id": "a566bcdf",
   "metadata": {},
   "outputs": [],
   "source": [
    "#maped column \"Category\"\n",
    "pdDistricts = df_train_origin[\"PdDistrict\"].map(dict_PdDistrict).fillna(df_train_origin[\"PdDistrict\"]).astype(int)"
   ]
  },
  {
   "cell_type": "markdown",
   "id": "8ba15b84",
   "metadata": {},
   "source": [
    "#### Mapping of all Resolutions (not realy useful so actually not a part of \"X\")"
   ]
  },
  {
   "cell_type": "code",
   "execution_count": 119,
   "id": "5e0e3367",
   "metadata": {},
   "outputs": [
    {
     "data": {
      "text/plain": [
       "array(['ARREST, BOOKED', 'NONE', 'ARREST, CITED', 'PSYCHOPATHIC CASE',\n",
       "       'JUVENILE BOOKED', 'UNFOUNDED', 'EXCEPTIONAL CLEARANCE', 'LOCATED',\n",
       "       'CLEARED-CONTACT JUVENILE FOR MORE INFO', 'NOT PROSECUTED',\n",
       "       'JUVENILE DIVERTED', 'COMPLAINANT REFUSES TO PROSECUTE',\n",
       "       'JUVENILE ADMONISHED', 'JUVENILE CITED',\n",
       "       'DISTRICT ATTORNEY REFUSES TO PROSECUTE',\n",
       "       'PROSECUTED BY OUTSIDE AGENCY', 'PROSECUTED FOR LESSER OFFENSE'],\n",
       "      dtype=object)"
      ]
     },
     "execution_count": 119,
     "metadata": {},
     "output_type": "execute_result"
    }
   ],
   "source": [
    "#all different Resolutions\n",
    "pd.unique(df_train_origin[\"Resolution\"])"
   ]
  },
  {
   "cell_type": "code",
   "execution_count": 120,
   "id": "797f5354",
   "metadata": {},
   "outputs": [
    {
     "name": "stdout",
     "output_type": "stream",
     "text": [
      "{'ARREST, BOOKED': 1, 'NONE': 2, 'ARREST, CITED': 3, 'PSYCHOPATHIC CASE': 4, 'JUVENILE BOOKED': 5, 'UNFOUNDED': 6, 'EXCEPTIONAL CLEARANCE': 7, 'LOCATED': 8, 'CLEARED-CONTACT JUVENILE FOR MORE INFO': 9, 'NOT PROSECUTED': 10, 'JUVENILE DIVERTED': 11, 'COMPLAINANT REFUSES TO PROSECUTE': 12, 'JUVENILE ADMONISHED': 13, 'JUVENILE CITED': 14, 'DISTRICT ATTORNEY REFUSES TO PROSECUTE': 15, 'PROSECUTED BY OUTSIDE AGENCY': 16, 'PROSECUTED FOR LESSER OFFENSE': 17}\n"
     ]
    }
   ],
   "source": [
    "dict_Resolutions = {}\n",
    "index = 1\n",
    "for i in pd.unique(df_train_origin[\"Resolution\"]):\n",
    "    val = {i : index}\n",
    "    dict_Resolutions.update(val)\n",
    "    index+=1\n",
    "\n",
    "print(dict_Resolutions)"
   ]
  },
  {
   "cell_type": "code",
   "execution_count": 121,
   "id": "519ea667",
   "metadata": {},
   "outputs": [],
   "source": [
    "#maped column \"Resolution\"\n",
    "resolutions = df_train_origin[\"Resolution\"].map(dict_Resolutions).fillna(df_train_origin[\"Resolution\"]).astype(int)"
   ]
  },
  {
   "cell_type": "markdown",
   "id": "5ce05627",
   "metadata": {},
   "source": [
    "#### Mapping of all descriptions (not realy useful so actually not a part of \"X\")"
   ]
  },
  {
   "cell_type": "code",
   "execution_count": 122,
   "id": "38cb0105",
   "metadata": {},
   "outputs": [
    {
     "data": {
      "text/plain": [
       "array(['WARRANT ARREST', 'TRAFFIC VIOLATION ARREST',\n",
       "       'GRAND THEFT FROM LOCKED AUTO', 'GRAND THEFT FROM UNLOCKED AUTO',\n",
       "       'STOLEN AUTOMOBILE', 'PETTY THEFT FROM LOCKED AUTO',\n",
       "       'MISCELLANEOUS INVESTIGATION',\n",
       "       'MALICIOUS MISCHIEF, VANDALISM OF VEHICLES', 'FOUND PROPERTY',\n",
       "       'ROBBERY, ARMED WITH A KNIFE',\n",
       "       'AGGRAVATED ASSAULT WITH BODILY FORCE', 'TRAFFIC VIOLATION',\n",
       "       'ROBBERY, BODILY FORCE',\n",
       "       'STAY AWAY OR COURT ORDER, NON-DV RELATED', 'LOST PROPERTY',\n",
       "       'ATTEMPTED THEFT FROM LOCKED VEHICLE', 'CIVIL SIDEWALKS, CITATION',\n",
       "       'MALICIOUS MISCHIEF, VANDALISM', 'SUSPICIOUS PACKAGE',\n",
       "       'AIDED CASE, MENTAL DISTURBED', 'PETTY THEFT SHOPLIFTING',\n",
       "       'PROBATION VIOLATION', 'STAY AWAY ORDER VIOLATION, DV RELATED',\n",
       "       'DRIVERS LICENSE, SUSPENDED OR REVOKED', 'STOLEN MOTORCYCLE',\n",
       "       'GRAND THEFT FROM PERSON', 'BURGLARY, VEHICLE (ARREST MADE)',\n",
       "       'ATTEMPTED ROBBERY ON THE STREET WITH BODILY FORCE',\n",
       "       'PETTY THEFT FROM A BUILDING', 'INVESTIGATIVE DETENTION',\n",
       "       'GRAND THEFT OF PROPERTY', 'STOLEN AND RECOVERED VEHICLE',\n",
       "       'UNDER INFLUENCE OF ALCOHOL IN A PUBLIC PLACE',\n",
       "       'ENROUTE TO PAROLE OFFICER', 'ENROUTE TO OUTSIDE JURISDICTION',\n",
       "       'EXHIBITING DEADLY WEAPON IN A THREATING MANNER',\n",
       "       'GRAND THEFT FROM A BUILDING',\n",
       "       'BURGLARY OF RESIDENCE, ATTEMPTED FORCIBLE ENTRY',\n",
       "       'PETTY THEFT OF PROPERTY',\n",
       "       'BURGLARY OF APARTMENT HOUSE, UNLAWFUL ENTRY', 'FORGERY, NOTES',\n",
       "       'CHECKS, POSSESSION WITH INTENT TO PASS',\n",
       "       'BURGLARY,STORE UNDER CONSTRUCTION, UNLAWFUL ENTRY',\n",
       "       'GRAND THEFT SHOPLIFTING', 'POSSESSION OF NARCOTICS PARAPHERNALIA',\n",
       "       'RESISTING ARREST', 'CHILD ABUSE (PHYSICAL)',\n",
       "       'STOLEN PROPERTY, POSSESSION WITH KNOWLEDGE, RECEIVING',\n",
       "       'DOMESTIC VIOLENCE', 'THREATS AGAINST LIFE', 'AIDED CASE',\n",
       "       'TRESPASSING', 'BURGLARY OF HOTEL ROOM, UNLAWFUL ENTRY',\n",
       "       'POSSESSION OF MARIJUANA', 'LOST/STOLEN LICENSE PLATE',\n",
       "       'BURGLARY,BLDG. UNDER CONSTRUCTION, UNLAWFUL ENTRY',\n",
       "       'ROBBERY OF A COMMERCIAL ESTABLISHMENT W/ A KNIFE',\n",
       "       'FORGERY & COUNTERFEITING (GENERAL)',\n",
       "       'FRAUDULENT GAME OR TRICK, OBTAINING MONEY OR PROPERTY',\n",
       "       'STOLEN TRUCK', 'MISSING JUVENILE', 'RECKLESS DRIVING',\n",
       "       'ROBBERY, ARMED WITH A DANGEROUS WEAPON',\n",
       "       'VIOLATION OF RESTRAINING ORDER', 'JUVENILE INVOLVED',\n",
       "       'BATTERY, FORMER SPOUSE OR DATING RELATIONSHIP',\n",
       "       'TRAFFIC ACCIDENT',\n",
       "       'SHOOTING INTO INHABITED DWELLING OR OCCUPIED VEHICLE',\n",
       "       'SUSPICIOUS OCCURRENCE', 'BURGLARY, HOT PROWL, UNLAWFUL ENTRY',\n",
       "       'ENROUTE TO DEPARTMENT OF CORRECTIONS',\n",
       "       'POSSESSION OF MARIJUANA FOR SALES', 'SALE OF MARIJUANA',\n",
       "       'BURGLARY, HOT PROWL, ATTEMPTED FORCIBLE ENTRY',\n",
       "       'VIOLATION OF MUNICIPAL CODE', 'PAROLE VIOLATION', 'BATTERY',\n",
       "       'BURGLARY OF APARTMENT HOUSE, FORCIBLE ENTRY',\n",
       "       'BURGLARY OF RESIDENCE, FORCIBLE ENTRY',\n",
       "       'ROBBERY OF A CHAIN STORE WITH A DANGEROUS WEAPON',\n",
       "       'AGGRAVATED ASSAULT WITH A DEADLY WEAPON',\n",
       "       'POSSESSION OF METH-AMPHETAMINE',\n",
       "       'ROBBERY OF A BANK WITH A DANGEROUS WEAPON',\n",
       "       'BURGLARY, UNLAWFUL ENTRY', 'THEFT OF ANIMALS (GENERAL)',\n",
       "       'AGGRAVATED ASSAULT WITH A KNIFE', 'CREDIT CARD, THEFT BY USE OF',\n",
       "       'AIDED CASE -PROPERTY FOR DESTRUCTION', 'FALSE IMPRISONMENT',\n",
       "       'ROBBERY ON THE STREET, STRONGARM', 'SUSPICIOUS PERSON',\n",
       "       'PETTY THEFT BICYCLE', 'MISSING ADULT', 'FOUND PERSON', 'RUNAWAY',\n",
       "       'LOITERING WHERE NARCOTICS ARE SOLD/USED', 'HARASSING PHONE CALLS',\n",
       "       'INCIDENT ON SCHOOL GROUNDS', 'GRAND THEFT BICYCLE',\n",
       "       'ATTEMPTED THEFT OF A BICYCLE', 'VIOLATION OF PARK CODE',\n",
       "       'ATTEMPTED ROBBERY ON THE STREET W/DEADLY WEAPON',\n",
       "       'ATTEMPTED GRAND THEFT PURSESNATCH',\n",
       "       'ATTEMPTED ROBBERY WITH BODILY FORCE',\n",
       "       'BURGLARY OF STORE, FORCIBLE ENTRY',\n",
       "       'POSSESSION OF BURGLARY TOOLS W/PRIORS',\n",
       "       'KIDNAPPING DURING ROBBERY', 'ROBBERY,  ATM, GUN', 'CONSPIRACY',\n",
       "       'RESTRAINING ORDER NOTIFICATION/SERVICE OF RESTRAINING ORDER',\n",
       "       'AIDED CASE, INJURED PERSON',\n",
       "       'DRIVING WHILE UNDER THE INFLUENCE OF ALCOHOL',\n",
       "       'INFLICT INJURY ON COHABITEE',\n",
       "       'DISCHARGE FIREARM AT AN INHABITED DWELLING',\n",
       "       'ROBBERY OF A CHAIN STORE WITH A GUN',\n",
       "       'PENETRATION, FORCED, WITH OBJECT',\n",
       "       'ORAL COPULATION, UNLAWFUL (ADULT VICTIM)',\n",
       "       'FRAUDULENT USE OF AUTOMATED TELLER CARD', 'ATM RELATED CRIME',\n",
       "       'TAMPERING WITH A VEHICLE', 'FORGERY, CREDIT CARD',\n",
       "       'THEFT OF COMPUTERS OR CELL PHONES', 'AIDED CASE, SICK PERSON',\n",
       "       'ENGAGING IN LEWD CONDUCT - PROSTITUTION RELATED',\n",
       "       'POSSESSION OF HEROIN', 'ASSAULT WITH CAUSTIC CHEMICALS',\n",
       "       'VIOLATION OF MUNICIPAL POLICE CODE',\n",
       "       'BURGLARY, HOT PROWL, FORCIBLE ENTRY',\n",
       "       'MALICIOUS MISCHIEF, BREAKING WINDOWS',\n",
       "       'ATTEMPTED ROBBERY OF A BANK WITH BODILY FORCE',\n",
       "       'FALSE PERSONATION', 'ATTEMPTED ROBBERY WITH A DEADLY WEAPON',\n",
       "       'AGGRAVATED ASSAULT WITH A GUN', 'ASSAULT, AGGRAVATED, W/ GUN',\n",
       "       'POSSESSION OF CONTROLLED SUBSTANCE FOR SALE',\n",
       "       'BURGLARY, FORCIBLE ENTRY', 'GRAND THEFT PICKPOCKET',\n",
       "       'ELDER ADULT OR DEPENDENT ABUSE (NOT EMBEZZLEMENT OR THEFT)',\n",
       "       'BURGLARY OF APARTMENT HOUSE, ATT FORCIBLE ENTRY',\n",
       "       'ROBBERY OF A CHAIN STORE WITH A KNIFE',\n",
       "       'BURGLARY OF STORE, UNLAWFUL ENTRY', 'FIRE REPORT',\n",
       "       'DISTURBING THE PEACE', 'DEATH REPORT, CAUSE UNKNOWN',\n",
       "       'PETTY THEFT FROM UNLOCKED AUTO',\n",
       "       'BURGLARY OF RESIDENCE, UNLAWFUL ENTRY',\n",
       "       'BURGLARY OF FLAT, UNLAWFUL ENTRY', 'MONEY, CHANGING FACE AMOUNT',\n",
       "       'BURGLARY,STORE UNDER CONSTRUCTION, FORCIBLE ENTRY',\n",
       "       'ARSON OF A VEHICLE', 'POSSESSION OF BURGLARY TOOLS',\n",
       "       'BURGLARY, VEHICLE, ATT. (ARREST MADE)',\n",
       "       'TRESPASS WITHIN 30 DAYS OF CREDIBLE THREAT',\n",
       "       'UNDER INFLUENCE OF DRUGS IN A PUBLIC PLACE',\n",
       "       'SODOMY (ADULT VICTIM)', 'BATTERY OF A POLICE OFFICER',\n",
       "       'FORGERY, POSSESSION DRIVERS LICENSE OR ID-CARD',\n",
       "       'MALICIOUS MISCHIEF, GRAFFITI',\n",
       "       'VANDALISM OR GRAFFITI TOOLS, POSSESSION', 'LOCATED PROPERTY',\n",
       "       'POSS OF LOADED FIREARM', 'FALSE PRETENSES, GRAND THEFT',\n",
       "       'CREDIT CARD, THEFT OF', 'AIDED CASE, DOG BITE',\n",
       "       'THEFT FROM MERCHANT OR LIBRARY', 'PROBATION SEARCH',\n",
       "       'ATTEMPTED ROBBERY RESIDENCE WITH BODILY FORCE',\n",
       "       'POSS OF FIREARM BY CONVICTED FELON/ADDICT/ALIEN',\n",
       "       'FIREARM, LOADED, IN VEHICLE, POSSESSION OR USE',\n",
       "       'CARRYING A CONCEALED WEAPON',\n",
       "       'MINOR WITHOUT PROPER PARENTAL CARE',\n",
       "       'FRAUDULENT CREDIT APPLICATION',\n",
       "       'FALSE PERSONATION TO RECEIVE MONEY OR PROPERTY',\n",
       "       'POSSESSION OF CONTROLLED SUBSTANCE', 'SEXUAL BATTERY',\n",
       "       'TRAFFIC COLLISION, HIT & RUN, INJURY',\n",
       "       'COUNTERFEITING, COINS OR NOTES',\n",
       "       'POSSESSION OF BASE/ROCK COCAINE FOR SALE', 'GANG ACTIVITY',\n",
       "       'ATTEMPTED HOMICIDE WITH A GUN', 'SEARCH WARRANT SERVICE',\n",
       "       'CHILD STEALING', 'COURTESY REPORT',\n",
       "       'ATTEMPTED THEFT FROM A BUILDING', 'ENROUTE TO ADULT AUTHORITY',\n",
       "       'CHILD ABUSE, PORNOGRAPHY', 'SUSPICIOUS ACT TOWARDS FEMALE',\n",
       "       'HUMAN TRAFFICKING', 'THEFT OF CHECKS OR CREDIT CARDS',\n",
       "       'AMMUNITION, POSS. BY PROHIBITED PERSON', 'ASSAULT',\n",
       "       'ASSAULT TO RAPE WITH BODILY FORCE', 'CASE CLOSURE',\n",
       "       'ATTEMPTED HOMICIDE WITH BODILY FORCE',\n",
       "       'SHOPLIFTING, FORCE AGAINST AGENT',\n",
       "       'POSSESSION OF HEROIN FOR SALES', 'ARSON',\n",
       "       'MALICIOUS MISCHIEF, ADULT SUSPECT',\n",
       "       'BURGLARY OF WAREHOUSE, FORCIBLE ENTRY',\n",
       "       'POSS OF PROHIBITED WEAPON',\n",
       "       'DISCHARGE FIREARM WITHIN CITY LIMITS', 'OBSCENE PHONE CALLS(S)',\n",
       "       'POSSESSION OF ALCOHOL BY MINOR', 'SALE OF BASE/ROCK COCAINE',\n",
       "       'FIREARM, CARRYING LOADED WITH INTENT TO COMMIT FELONY',\n",
       "       'SALE OF CONTROLLED SUBSTANCE', 'CIVIL SIDEWALKS, WARNING',\n",
       "       'FALSE PRETENSES, PETTY THEFT',\n",
       "       'MALICIOUS MISCHIEF, TIRE SLASHING', 'FORCIBLE RAPE, BODILY FORCE',\n",
       "       'DEFRAUDING AN INNKEEPER', 'ATTEMPTED SHOPLIFTING',\n",
       "       'DEATH REPORT, NATURAL CAUSES', 'ENGAGING IN LEWD ACT',\n",
       "       'LICENSE PLATE, FOUND', 'ROBBERY ON THE STREET WITH A KNIFE',\n",
       "       'ROBBERY, ARMED WITH A GUN',\n",
       "       'ROBBERY OF A CHAIN STORE WITH BODILY FORCE',\n",
       "       'THREATENING PHONE CALL(S)', 'EVADING A POLICE OFFICER RECKLESSLY',\n",
       "       'FIREARM, DISCHARGING AT OCCUPIED BLDG, VEHICLE, OR AIRCRAFT',\n",
       "       'KIDNAPPING, ADULT VICTIM',\n",
       "       'SUSPICIOUS OCCURRENCE, POSSIBLE SHOTS FIRED',\n",
       "       'DEFRAUDING TAXI DRIVER', 'LOST PROPERTY, PETTY THEFT',\n",
       "       'PERMIT VIOLATION, POLICE (GENERAL)',\n",
       "       'ATTEMPTED HOMICIDE WITH A KNIFE',\n",
       "       'CONSUMING ALCOHOL IN PUBLIC VIEW',\n",
       "       'FALSE EVIDENCE OF VEHICLE REGISTRATION',\n",
       "       'DISTURBING THE PEACE, COMMOTION',\n",
       "       'ATTEMPTED THEFT FROM UNLOCKED VEHICLE', 'FALSE FIRE ALARM',\n",
       "       'DOG, STRAY OR VICIOUS', 'THEFT, GRAND, OF FIREARM',\n",
       "       'DISSUADING WITNESS, VICTIM', 'POSS OF TEAR GAS WEAPON',\n",
       "       'INJURY TO TELEGRAPH/TELEPHONE LINES',\n",
       "       'ROBBERY OF A RESIDENCE WITH BODILY FORCE',\n",
       "       'DRIVING WHILE UNDER THE INFLUENCE OF DRUGS',\n",
       "       'ROBBERY ON THE STREET WITH A GUN',\n",
       "       'TRICK AND DEVICE, PETTY THEFT', 'ATTEMPTED ARSON',\n",
       "       'FLAMMABLE OR EXPLOSIVE DEVICE, POSSESSION',\n",
       "       'POSSESSION OF METH-AMPHETAMINE FOR SALE',\n",
       "       'TRANSPORTATION OF METH-AMPHETAMINE', 'GRAND THEFT AUTO STRIP',\n",
       "       'WEAPON, DEADLY, EXHIBITING TO RESIST ARREST',\n",
       "       'THREAT OR FORCE TO RESIST EXECUTIVE OFFICER',\n",
       "       'SELL OR FURNISH ALCOHOL TO INTOXICATED PERSON',\n",
       "       'TRAFFIC COLLISION, HIT & RUN, PROPERTY DAMAGE',\n",
       "       'STOLEN MISCELLANEOUS VEHICLE', 'FALSE ID TO PEACE OFFICER',\n",
       "       'ROBBERY ON THE STREET WITH A DANGEROUS WEAPON',\n",
       "       'CIVIL SIDEWALKS, VIOLATION', 'THREATS TO SCHOOL TEACHERS',\n",
       "       'POSSESSION OF AIR GUN', 'POSSESSION OF BASE/ROCK COCAINE',\n",
       "       'ATTEMPTED MAYHEM WITH A DEADLY WEAPON',\n",
       "       'ROBBERY OF A COMMERCIAL ESTABLISHMENT, STRONGARM',\n",
       "       'BURGLARY,BLDG. UNDER CONSTRUCTION, FORCIBLE ENTRY', 'STALKING',\n",
       "       'CHECKS, MAKE OR PASS FICTITIOUS',\n",
       "       'CHECKS OR LEGAL INSTRUMENTS, UTTERING FORGED',\n",
       "       'SOLICITS FOR ACT OF PROSTITUTION',\n",
       "       'LOITERING FOR PURPOSE OF PROSTITUTION',\n",
       "       'LICENSE PLATE, RECOVERED', 'POSSESSION OF COCAINE FOR SALES',\n",
       "       'TARASOFF REPORT', 'EMBEZZLED VEHICLE',\n",
       "       'FAILURE TO REGISTER AS SEX OFFENDER', 'ROBBERY,  ATM, GUN, ATT.',\n",
       "       'PROBATION VIOLATION, DV RELATED', 'PREJUDICE-BASED INCIDENT',\n",
       "       'DEATH, ACCIDENTAL', 'IMPOUNDED VEHICLE',\n",
       "       'BATTERY WITH SERIOUS INJURIES', 'DISORDERLY HOUSE, KEEPING',\n",
       "       'TRANSPORTATION OF MARIJUANA', 'ATTEMPTED STOLEN VEHICLE',\n",
       "       'VEHICLE ALARM CODE GRABBING DEVICE, POSSESS OR USE',\n",
       "       'CARRYING OF CONCEALED WEAPON BY CONVICTED FELON',\n",
       "       'MAINTAINING A PUBLIC NUISANCE AFTER NOTIFICATION',\n",
       "       'OBSTRUCTIONS ON STREETS/SIDEWALKS',\n",
       "       'VIOLATION OF EMERGENCY PROTECTIVE ORDER',\n",
       "       'MAINTAINING A PUBLIC NUISANCE',\n",
       "       'BURGLARY, ATTEMPTED FORCIBLE ENTRY', 'COMMITTING PUBLIC NUISANCE',\n",
       "       'ANNOY OR MOLEST CHILDREN', 'INDECENT EXPOSURE',\n",
       "       'AGGRAVATED ASSAULT OF POLICE OFFICER,BODILY FORCE',\n",
       "       'ATTEMPTED KIDNAPPING, JUVENILE VICTIM',\n",
       "       'ATTEMPTED GRAND THEFT FROM PERSON',\n",
       "       'ROBBERY OF A RESIDENCE WITH A KNIFE',\n",
       "       'VIOLATION OF STAY AWAY ORDER', 'MISCELLANEOUS STATE FELONY',\n",
       "       'ATTEMPTED SUICIDE', 'PROPERTY FOR IDENTIFICATION',\n",
       "       'PLANTING/CULTIVATING MARIJUANA',\n",
       "       'ACCESS CARD INFORMATION, THEFT OF',\n",
       "       'MISCELLANEOUS STATE MISDEMEANOR', 'SHORT CHANGE, PETTY THEFT',\n",
       "       'THEFT, DRUNK ROLL, <$50', 'KIDNAPPING, JUVENILE VICTIM',\n",
       "       'TRUANT, HABITUAL', 'DISTURBING THE PEACE, FIGHTING',\n",
       "       'SUSPICIOUS AUTO, POSSIBLY SEX',\n",
       "       'BURGLARY,RESIDENCE UNDER CONSTRT, FORCIBLE ENTRY',\n",
       "       'BRIBERY OF EXECUTIVE OFFICER',\n",
       "       'THREATENING SCHOOL OR PUBLIC EMPLOYEE', 'CRUELTY TO ANIMALS',\n",
       "       'BURGLARY OF HOTEL ROOM, FORCIBLE ENTRY',\n",
       "       'LOITERING ABOUT SCHOOL/PLAYGROUND', 'POSSESSION OF COCAINE',\n",
       "       'SPEEDING', 'SCHOOL, PUBLIC, TRESPASS',\n",
       "       'ROBBERY OF A COMMERCIAL ESTABLISHMENT W/ WEAPON',\n",
       "       'ENROUTE TO U.S. MARSHALL',\n",
       "       'ASSAULT ON A POLICE OFFICER WITH A DEADLY WEAPON',\n",
       "       'PETTY THEFT AUTO STRIP', 'ATTEMPTED PETTY THEFT OF PROPERTY',\n",
       "       'ATTEMPTED SIMPLE ASSAULT', 'BURGLARY OF FLAT, FORCIBLE ENTRY',\n",
       "       'COUNTERFEITING, POSSESSION COINS OR NOTES',\n",
       "       'ATTEMPTED ROBBERY ON THE STREET WITH A GUN',\n",
       "       'MALICIOUS MISCHIEF, JUVENILE SUSPECT', 'MAYHEM WITH A KNIFE',\n",
       "       'UNLAWFUL DISSUADING/THREATENING OF A WITNESS',\n",
       "       'DRIVING, RECKLESS, WITH INJURY',\n",
       "       'WEAPON, DEADLY, CARRYING WITH INTENT TO COMMIT ASSAULT',\n",
       "       'OPEN CONTAINER OF ALCOHOL IN VEHICLE',\n",
       "       'RESISTING PEACE OFFICER, CAUSING THEIR SERIOUS INJURY OR DEATH',\n",
       "       'ENROUTE TO PROBATION OFFICER',\n",
       "       'REMAINING ON CAMPUS WITHOUT CONSENT',\n",
       "       'SCHOOL PROPERTY, DISTURBANCE ON',\n",
       "       'WEAPON, POSSESS OR BRING OTHER ON SCHOOL GROUNDS',\n",
       "       'UNUSUAL OCCURENCE',\n",
       "       'FALSE PERSONATION AND CHEAT CRIMES (GENERAL)', 'CURFEW VIOLATION',\n",
       "       'POSSESSION OF HALLUCINOGENIC FOR SALES', 'SALE OF HALLUCINOGENIC',\n",
       "       'CARJACKING WITH A KNIFE', 'KIDNAPPING DURING CARJACKING',\n",
       "       'MAINTAINING PREMISE WHERE NARCOTICS ARE SOLD/USED',\n",
       "       'ARMOR PENETRATING AMMUNITION, POSSESSION',\n",
       "       'POST RELEASE COMMUNITY SUPERVISION',\n",
       "       'FORGE OR ALTER PRESCRIPTION',\n",
       "       'DISCHARGING IN GROSSLY NEGLIGENT MANNER',\n",
       "       'GRAND THEFT PURSESNATCH', 'ATTEMPTED ROBBERY WITH A KNIFE',\n",
       "       'CARJACKING WITH BODILY FORCE',\n",
       "       'CHILD, INFLICTING INJURY RESULTING IN TRAUMATIC CONDITION',\n",
       "       'WEAPON, POSSESSING IN PUBLIC BUILDING OR OPEN MEETING',\n",
       "       'EMBEZZLEMENT FROM DEPENDENT OR ELDER ADULT BY CARETAKER',\n",
       "       'BURGLARY,RESIDENCE UNDER CONSTRT, UNLAWFUL ENTRY',\n",
       "       'AUTO, GRAND THEFT OF', 'DESTITUTE MINOR',\n",
       "       'STOLEN CHECKS, POSSESSION', 'FIRE, UNLAWFULLY CAUSING',\n",
       "       'ROBBERY OF A BANK WITH BODILY FORCE', 'BEYOND PARENTAL CONTROL',\n",
       "       'FIREARMS, SEIZING AT SCENE OF DV',\n",
       "       'FALSE CLAIMS, PRESENTING TO GOVERNMENT', 'TURNED IN GUN',\n",
       "       'LOCATED EXPLOSIVE DEVICE', 'SUICIDE BY JUMPING',\n",
       "       'ANIMAL, FIGHTING', 'ARSON OF AN INHABITED DWELLING',\n",
       "       'BURGLARY,STORE UNDER CONSTRUCTION, ATT. FORCIBLE',\n",
       "       'LOITERING WHILE CARRYING CONCEALED WEAPON',\n",
       "       'DANGER OF LEADING IMMORAL LIFE', 'CHECKS, FORGERY (MISDEMEANOR)',\n",
       "       'DRIVES VEHICLE ALONG TRACK OF RAILROAD',\n",
       "       'TRANSPORTATION OF HEROIN', 'POSSESSION OF OPIATES FOR SALES',\n",
       "       'TRANSPORTATION OF OPIATES',\n",
       "       'DRIVING WHILE UNDER THE INFLUENCE OF ALCOHOL, W/INJURY',\n",
       "       'ATTEMPTED KIDNAPPING, ADULT VICTIM', 'PHONE CALLS, OBSCENE',\n",
       "       'VIOLATION OF FIRE CODE', 'UNLAWFUL SEXUAL INTERCOURSE',\n",
       "       'SUSPICIOUS ACT TOWARDS CHILD', 'SALE OF OPIUM',\n",
       "       'PHONE CALLS IN VIOLATION OF DV COURT ORDER',\n",
       "       'EMBEZZLEMENT, GRAND THEFT BY BROOKERS/AGENTS',\n",
       "       'TRANSPORTAION OF CONTROLLED SUBSTANCE', 'STOLEN TRAILER',\n",
       "       'FALSE REPORT OF EMERGENCY',\n",
       "       'ATTEMPTED ROBBERY CHAIN STORE WITH A KNIFE',\n",
       "       'POSSESSION OF HALLUCINOGENIC', 'THEFT, DRUNK ROLL, $50-$200',\n",
       "       'FAILURE TO PROVIDE FOR CHILD',\n",
       "       'ELECTRICAL  OR GAS LINES, INTERFERING WITH',\n",
       "       'WEAPON, ASSAULT, POSSESSION, MANUFACTURE, OR SALE',\n",
       "       'VIN, ALTER OR REMOVE',\n",
       "       'ATTEMPTED ROBBERY CHAIN STORE WITH BODILY FORCE',\n",
       "       'LODGING WITHOUT PERMISSION', 'LOST PROPERTY, GRAND THEFT',\n",
       "       'ROBBERY,  ATM, FORCE, ATT.',\n",
       "       'CELLULAR OR CORDLESS PHONE COMMUNICATIONS, INTERCEPTING',\n",
       "       'EVADING A POLICE VEHICLE OR BICYCLE', 'EXTORTION',\n",
       "       'LICENSE PLATE OR TAB, THEFT OF', 'PAROLE SEARCH',\n",
       "       'THEFT OF UTILITY SERVICES',\n",
       "       'FIREARM, ARMED WHILE POSSESSING CONTROLLED SUBSTANCE',\n",
       "       'ATTEMPTED MAYHEM WITH BODILY FORCE',\n",
       "       'MAYHEM WITH A DEADLY WEAPON',\n",
       "       'ATTEMPTED HOMICIDE WITH A DANGEROUS WEAPON', 'GAMBLING',\n",
       "       'POSSESSION OF GAMBLING DEVICES',\n",
       "       'SEXUAL ASSAULT, AGGRAVATED, OF CHILD',\n",
       "       'CREDIT CARD, INCOMPLETE OR COUNTERFEIT',\n",
       "       'CONTRIBUTING TO THE DELINQUENCY OF MINOR',\n",
       "       'ATTEMPTED ROBBERY ON THE STREET WITH A KNIFE',\n",
       "       'STOLEN ACCESS CARD, POSSESSION',\n",
       "       'BURGLARY,APT UNDER CONSTRUCTION, UNLAWFUL ENTRY',\n",
       "       'DISTURBING THE PEACE, SWEARING', 'ROBBERY OF A BANK WITH A GUN',\n",
       "       'MALICIOUS MISCHIEF, STREET CARS/BUSES', 'FALSE REPORT OF CRIME',\n",
       "       'SALE OF ALCOHOL TO MINOR',\n",
       "       'MONEY, PROPERTY OR LABOR, FRAUDULENTLY OBTAINING',\n",
       "       'DAMAGE TO PARKING METERS',\n",
       "       'THROWING INJURIOUS SUBSTANCE ON HIGHWAY',\n",
       "       'FIREARM, DISCHARGING IN GROSSLY NEGLIGENT MANNER',\n",
       "       'POSSESSION OF AMPHETAMINE FOR SALES',\n",
       "       'PRIVACY, INVASION OF  (GENERAL)',\n",
       "       'TOBACCO PRODUCTS, SELLING OR FURNISHING TO MINOR',\n",
       "       'EMBEZZLEMENT, PETTY THEFT BY EMPLOYEE',\n",
       "       'IMPERSONATING A POLICE OFFICER', 'TRICK AND DEVICE, ATTEMPTED',\n",
       "       'ROBBERY, VEHICLE FOR HIRE, ATT., W/ OTHER WEAPON',\n",
       "       'ROBBERY OF A BANK WITH A KNIFE',\n",
       "       'THEFT, BICYCLE, <$50, SERIAL NUMBER KNOWN',\n",
       "       'BURGLARY OF STORE, ATTEMPTED FORCIBLE ENTRY',\n",
       "       'SWITCHBLADE KNIFE, POSSESSION',\n",
       "       'WEAPON, ASSAULT, REGISTRATION OR TRANSFER VIOLATION',\n",
       "       'VEHICLE, DISABLED PLACARD VIOLATION',\n",
       "       'POSSESSION OF CAUSTIC CHEMICAL', 'TRANSPORTATION OF COCAINE',\n",
       "       'CHECKS, FORGERY (FELONY)',\n",
       "       'FIREARM, POSSESSION OF WHILE WEARING MASK',\n",
       "       'ROBBERY,  ATM, OTHER WEAPON', 'EMBEZZLEMENT, PETTY THEFT',\n",
       "       'AEROSOL CONTAINER; SALE, PURCHASE OR POSSESSION OF',\n",
       "       'ATTEMPTED ROBBERY COMM. ESTAB. WITH BODILY FORCE',\n",
       "       'IMMORAL ACTS OR DRUNK IN PRESENCE OF CHILD',\n",
       "       'POSSESSION OF METHADONE', 'PUBLIC TRANSIT CRIMES - INFRACTIONS',\n",
       "       'EVADING PAYMENT OF RAILROAD FARE', 'SHELTER',\n",
       "       'INTOXICATED JUVENILE', 'ATTEMPTED EXTORTION',\n",
       "       'ROBBERY OF A COMMERCIAL ESTABLISHMENT WITH A GUN',\n",
       "       'POSSESSION OF ARTICLES WITH IDENTIFICATION REMOVE',\n",
       "       'CHECKS, NON-SUFFICIENT FUNDS (MISDEMEANOR)',\n",
       "       'THEFT, GRAND, BY FIDUCIARY, >$400 IN 12 MONTHS',\n",
       "       'BURGLARY,RESIDENCE UNDER CONSTRT, ATT. FORCIBLE',\n",
       "       'MANUFACTURE OR SALE OF COUNTERFEIT GOODS',\n",
       "       'UNDER THE INFLUENCE OF CONTROLLED SUBSTANCES',\n",
       "       'ROBBERY,  ATM, KNIFE', 'ARSON OF A COMMERCIAL BUILDING',\n",
       "       'STOLEN CELLULAR PHONE, NON-CLONED, POSSESSION',\n",
       "       'MALICIOUS MISCHIEF, BREAKING WINDOWS WITH BB GUN',\n",
       "       'AUDIOVISUAL (VIDEO OR SOUND) RECORDINGS, UNAUTHORIZED',\n",
       "       'STOLEN ELECTRONICS, POSSESSION', 'RAPE, SPOUSAL',\n",
       "       'FORGERY, DRIVERS LICENSE OR ID-CARD', 'WILLFUL CRUELTY TO CHILD',\n",
       "       'FALSIFYING JUDICIAL & PUBLIC RECORDS & DOCUMENTS',\n",
       "       'CASH DISPENSING MACHINES (ATM), LOITERING PROHIBI',\n",
       "       'EMBEZZLEMENT, GRAND THEFT BY EMPLOYEE',\n",
       "       'INDECENT EXPOSURE (JUVENILE VICTIM)', 'CHILD ABUSE SEXUAL',\n",
       "       'CHILDREN, ABANDONMENT & NEGLECT OF (GENERAL)',\n",
       "       'AGGRAVATED ASSAULT ON POLICE OFFICER WITH A KNIFE',\n",
       "       'AUTO IMPOUNDED', 'INTERFERRING WITH A FIREMAN',\n",
       "       'THROWING SUBSTANCE AT VEHICLE', 'TRICK AND DEVICE, GRAND THEFT',\n",
       "       'VANDALISM OR GRAFFITI ON OR WITHIN 100 FT OF HIGHWAY',\n",
       "       'ARSON OF A VACANT BUILDING',\n",
       "       'TRADE SECRETS, THEFT OR UNAUTHORIZED COPYING',\n",
       "       'MINOR PURCHASING OR RECEIVING TOBACCO PRODUCT', 'SALE OF HEROIN',\n",
       "       'EMBEZZLEMENT, GRAND THEFT LEASED PROPERTY',\n",
       "       'VIOLATION OF FEDERAL STATUTE', 'ATTEMPTED RAPE, BODILY FORCE',\n",
       "       'PETTY THEFT COIN OPERATED MACHINE', 'POSSESSION OF OPIATES',\n",
       "       'GRAND THEFT BY PROSTITUTE',\n",
       "       'OTHER OFFENSES AGAINST PUBLIC JUSTICE',\n",
       "       'PEDDLING WITHOUT A LICENSE', 'SALE OF METH-AMPHETAMINE',\n",
       "       'FAILURE TO HEED RED LIGHT AND SIREN', 'SUICIDE BY ASPHYXIATION',\n",
       "       'BURGLARY,HOTEL UNDER CONSTRUCTION, FORCIBLE ENTRY',\n",
       "       'VIOLATION OF RESTRICTIONS ON A FIREARM TRANSFER',\n",
       "       'ATTEMPTED ROBBERY WITH A GUN', 'ORAL COPULATION',\n",
       "       'PERMIT VIOLATION, ENTERTAINMENT', 'CARJACKING WITH A GUN',\n",
       "       'REAL ESTATE FRAUD', 'BURGLARY OF FLAT, ATTEMPTED FORCIBLE ENTRY',\n",
       "       'THREAT TO STATE OFFICIAL OR JUDGE',\n",
       "       'IDENTIFICATION, GOVERNMENT, POSSESS, MAKE OR SELL FALSE',\n",
       "       'ATTEMPTED ROBBERY RESIDENCE WITH A KNIFE',\n",
       "       'INDECENT EXPOSURE WITH PRIOR CONVICTION',\n",
       "       'INTERFERRING WITH A POLICE OFFICER',\n",
       "       'ROBBERY OF A RESIDENCE WITH A GUN', 'MAYHEM WITH BODILY FORCE',\n",
       "       'COMPUTER SYSTEM, ACCESSING, COPYING, OR DAMAGING',\n",
       "       'FORCIBLE RAPE, ARMED WITH A SHARP INSTRUMENT',\n",
       "       'CHILD ABUSE, EXPLOITATION', 'DAMAGE TO MAIL BOX',\n",
       "       'MISCELLANEOUS LIQOUR LAW VIOLATION', 'SALE OF COCAINE',\n",
       "       'ABANDONMENT OF CHILD', 'PLACING TRASH ON THE STREET',\n",
       "       'SPITTING ON SIDEWALK', 'ACTS AGAINST PUBLIC TRANSIT',\n",
       "       'HAZARDOUS MATERIALS, SPILL ON ROADWAY',\n",
       "       'OPERATING TAXI WITHOUT A PERMIT', 'PETTY THEFT WITH PRIOR',\n",
       "       'FALSE REPORT OF BOMB', 'CARJACKING WITH A DANGEROUS WEAPON',\n",
       "       'THROWING OBJECT AT COMMON CARRIER, PASSENGER OR FREIGHT',\n",
       "       'DUMPING OF OFFENSIVE MATTER',\n",
       "       'DEATH, NON-MANSLAUGHTER AUTO ACCIDENT',\n",
       "       'FIREARM WITH ALTERED IDENTIFICATION',\n",
       "       'TAMPERING WITH MARKS ON FIREARM',\n",
       "       'FIREARM POSSESSION IN SCHOOL ZONE',\n",
       "       'PERMIT VIOLATION, VALET PARKING',\n",
       "       'BURGLARY,FLAT UNDER CONSTRUCTION, FORCIBLE ENTRY', 'SODOMY',\n",
       "       'JUDGE/JUROR ACCEPTING A BRIBE',\n",
       "       'TRESPASSING OR LOITERING NEAR POSTED INDUSTRIAL PROPERTY',\n",
       "       'OBSTRUCTING PUBLIC THOROUGHFARE',\n",
       "       'GRAFFITI ON GOVERNMENT VEHICLES OR PUBLIC TRANSPORTATION',\n",
       "       'UNLAWFUL TRANSPORTATION OF ALCOHOL', 'CIVIL SIDEWALKS, BOOKING',\n",
       "       'WEARING MASK OR DISGUISE FOR UNLAWFUL PURPOSE',\n",
       "       'ATTEMPTED SUICIDE BY LACERATION', 'EMBEZZLEMENT (GENERAL)',\n",
       "       'POSSESSION OF FIRECRACKERS',\n",
       "       'POSS OF DEADLY WEAPON WITH INTENT TO ASSAULT',\n",
       "       'BURGLARY,WAREHOUSE UNDER CONSTRT, FORCIBLE ENTRY',\n",
       "       'SAFE BURGLARY OF A HOTEL',\n",
       "       'PRESCRIPTION, FORGE OR ALTER (4390 B&P)',\n",
       "       'THEFT OF WRITTEN INSTRUMENT',\n",
       "       'SEXUAL ASSAULT, ADMINISTERING DRUG TO COMMIT',\n",
       "       'BURGLARY,APT UNDER CONSTRUCTION, FORCIBLE ENTRY',\n",
       "       'ATTEMPTED SUICIDE BY JUMPING', 'AGGRESSIVE SOLICITING',\n",
       "       'HABITUAL TRUANT', 'HYPODERMIC NEEDLE OR SYRINGE, POSSESSION',\n",
       "       'DAMAGE/DESTRUCTION OF MAIL',\n",
       "       'ATTEMPTED ROBBERY OF A BANK WITH A DEADLY WEAPON',\n",
       "       'ATTEMPTED ROBBERY RESIDENCE WITH A GUN', 'BEGGING',\n",
       "       'SAFE BURGLARY OF A STORE', 'EMBEZZLEMENT, GRAND THEFT',\n",
       "       'SALE OF OPIATES', 'PANDERING',\n",
       "       'MALICIOUS MISCHIEF, FICTITIOUS PHONE CALLS',\n",
       "       'PETTY THEFT MOTORCYCLE STRIP', 'THEFT, BOAT',\n",
       "       'CHECKS, NON-SUFFICIENT FUNDS (FELONY)',\n",
       "       'ESCAPE OR ASSISTING ESCAPE', 'ATTEMPTED SUICIDE BY INGESTION',\n",
       "       'TAKING CONTRABAND INTO A REFORMATORY', 'UNLAWFUL ASSEMBLY',\n",
       "       'BURGLARY OF WAREHOUSE, ATTEMPTED FORCIBLE ENTRY',\n",
       "       'ATTEMPTED ROBBERY RESIDENCE WITH A DEADLY WEAPON',\n",
       "       'BURGLARY OF WAREHOUSE, UNLAWFUL ENTRY', 'PIMPING',\n",
       "       'DISRUPTS SCHOOL ACTIVITIES',\n",
       "       'CONCEAL CRIME OR WITHHOLD EVIDENCE, ACCEPTING PAYMENT TO',\n",
       "       'ATTEMPTED ROBBERY COMM. ESTABLISHMENT WITH A GUN',\n",
       "       'DAMAGE TO FIRE ALARM APPARATUS', 'THEFT, DRUNK ROLL, $200-$400',\n",
       "       'STOLEN COMPUTER, POSSESSION',\n",
       "       'THEFT, BICYCLE, <$50, NO SERIAL NUMBER',\n",
       "       'PHONE CALLS, HARASSING, TO 911', 'RIOT', 'DOG, BARKING',\n",
       "       'ATTEMPTED ROBBERY OF A BANK WITH A GUN',\n",
       "       'FAILURE TO REGISTER AS NARCOTICS ADDICT',\n",
       "       'ASSAULT TO COMMIT MAYHEM OR SPECIFIC SEX OFFENSES', 'STOLEN BUS',\n",
       "       'SOLICITING COMMISSION OF A CRIME', 'SALE OF ALCOHOL AFTER HOURS',\n",
       "       'SAFE BURGLARY', 'DOG OR CAT, ABANDONMENT OF',\n",
       "       'MINOR ON ON-SALE LICENSED PREMISE', 'RECEIVING STOLEN PROPERTY',\n",
       "       'FIREARM, NEGLIGENT DISCHARGE',\n",
       "       'EVADING A POLICE OFFICER, INJURY OR DEATH',\n",
       "       'DRIVING WHILE UNDER THE INFLUENCE OF DRUGS, W/INJURY',\n",
       "       'SUICIDE BY STRANGULATION',\n",
       "       'REFUSING TO DISPERSE UPON LAWFUL COMMAND', 'INCITING TO RIOT',\n",
       "       'DESTRUCTION OF PROPERTY WITH EXPLOSIVES',\n",
       "       'FIREWORKS, THROW AT PERSON OR DISCHARGE IN CROWD',\n",
       "       'BURGLARY,FLAT UNDER CONSTRUCTION, UNLAWFUL ENTRY',\n",
       "       'BALLOONS, ELECTRICALLY CONDUCTIVE', 'DESERTION OF CHILD',\n",
       "       'LYNCHING BY RIOT', 'PEEPING TOM', 'FURNISHING MARIJUANA',\n",
       "       'ROBBERY OF A RESIDENCE WITH A DANGEROUS WEAPON',\n",
       "       'ROBBERY OF A SERVICE STATION W/DANGEROUS WEAPON',\n",
       "       'DEFRAUDING OF VEHICLE REPAIRMAN', 'DEATH REPORT, IN CUSTODY',\n",
       "       'LICENSE REQUIRED TO SELL ALCOHOL',\n",
       "       'BURGLARY,BLDG. UNDER CONSTRUCTION, ATT. FORCIBLE',\n",
       "       'COUNTERFEITING, PLATES OR DIES', 'ABORTION',\n",
       "       'SUICIDE BY FIREARMS', 'ATTEMPTED SUICIDE BY STRANGULATION',\n",
       "       'ROBBERY OF A SERVICE STATION WITH A GUN', 'MAYHEM WITH A GUN',\n",
       "       'AID OR HARBOR FELON', 'LOITERING',\n",
       "       'FALSE EVIDENCE OF AGE BY MINOR',\n",
       "       'ANIMAL, WITHOUT PROPER CARE OR ATTENTION',\n",
       "       'GRAND THEFT MOTORCYCLE STRIP',\n",
       "       'ROBBERY OF A SERVICE STATION WITH BODILY FORCE',\n",
       "       'FORCIBLE RAPE, ARMED WITH A GUN',\n",
       "       'SEXUAL CONTACT WITH PATIENT, FORMER PATIENT',\n",
       "       'LICENSE PLATE, STOLEN', 'POSSESSION OF EXPLOSIVE DEVICE',\n",
       "       'INDECENT EXPOSURE - PROSTITUTION RELATED',\n",
       "       'IMPERSONATING FIRE DEPARTMENT MEMBER',\n",
       "       'WEAPON, TAKING OR ATTEMPTING TO TAKE FROM PEACE OFFICER',\n",
       "       'SAFE BURGLARY OF A RESIDENCE',\n",
       "       'INMATE/KEEPER OF HOUSE OF PROSTITUTION',\n",
       "       'ATTEMPTED ROBBERY SERVICE STATION WITH A KNIFE',\n",
       "       'SCALPING TICKETS', 'POSSESSION OF OPIUM DERIVATIVE',\n",
       "       'POSSESSION OF METHADONE FOR SALES',\n",
       "       'ATTEMPTED ROBBERY COMM. ESTAB. WITH DEADLY WEAPON',\n",
       "       'IMPERSONATING PUBLIC UTILITY MEMBER', 'SOLICITS LEWD ACT',\n",
       "       'FORCIBLE RAPE, ARMED WITH A DANGEROUS WEAPON',\n",
       "       'FORGERY, GOVERNMENT OR CORPORATE SEALS',\n",
       "       'ATTEMPTED ROBBERY CHAIN STORE WITH DEADLY WEAPON',\n",
       "       'FOOD STAMPS, MISUSE OF',\n",
       "       'INSURED PROPERTY, DESTRUCTION TO DEFRAUD INSURER',\n",
       "       'VEHICLE, RENTAL, FAILURE TO RETURN',\n",
       "       'DEMONSTRATION, VIDEO EVIDENCE, MISC. INVESTIGATION',\n",
       "       'DISASTER AREA, ENTERING OR REMAINING IN',\n",
       "       'DESTROYING JAIL PROPERTY-OVER $200', 'THEFT, DRUNK ROLL, >$400',\n",
       "       'MASSAGE ESTABLISHMENT PERMIT VIOLATION',\n",
       "       'FALSE REPRESENTATION TO SECONDHAND DEALER',\n",
       "       'DISCHARGING OFFENSIVE OR INJURIOUS SUBSTANCE IN PUBLIC AREA',\n",
       "       'LOITERS AROUND PUBLIC TOILET FOR LEWD ACT',\n",
       "       'VIOLATION OF CIVIL GANG INJUNCTION',\n",
       "       'PERMIT VIOLATION, SIDEWALK SALES',\n",
       "       'TRANSPORTATION OF AMPHETAMINE', 'SUICIDE BY LACERATION',\n",
       "       'DISTURBING RELIGIOUS MEETINGS', 'THEFT, GRAND, AGRICULTURAL',\n",
       "       'LOITERING WITHOUT LAWFUL BUSINESS WITH OWNER OR OCCUPANT',\n",
       "       'ATTEMPTED GRAND THEFT PICKPOCKET',\n",
       "       'SELLING/DISCHARGING OF FIRECRACKERS', 'THEFT, ANIMAL, ATT.',\n",
       "       'ATTEMPTED SUICIDE BY FIRE',\n",
       "       'THEFT OF TELECOMMUNICATION SERVICES, INCL. CLONE PHONE',\n",
       "       'ARSON OF A POLICE BUILDING',\n",
       "       'ADVERTISING DISTRIBUTORS PERMIT VIOLATION',\n",
       "       'CIVIL RIGHTS, INCL. INJURY, THREAT, OR DAMAGE (HATE CRIMES)',\n",
       "       'ENCOURAGING MINOR TO USE MARIJUANA',\n",
       "       'TRESPASSING ON RAILROAD TRAINS',\n",
       "       'CITIZENSHIP DOCUMENT, USING FALSE',\n",
       "       'HAZARDOUS MATERIALS, DUMPING IN UNAUTHORIZED LOCATN',\n",
       "       'SALE OF METHADONE', 'RESCUING PRISONER FROM LAWFUL CUSTODY',\n",
       "       'ASSAULT, AGGRAVATED, ON POLICE OFFICER, W/ GUN',\n",
       "       'FINANCIAL STATEMENTS, FALSE',\n",
       "       'EMBEZZLEMENT, PETTY THEFT PUBLIC/PRIVATE OFFICIAL',\n",
       "       'ILLEGAL TRANSPORTAION OF EXPLOSIVES', 'STOLEN METALS, RECEIVING',\n",
       "       'ASSAULT TO RAPE WITH A GUN', 'ASSAULT BY POLICE OFFICER',\n",
       "       'FALSIFICATION OF MEDICAL RECORDS',\n",
       "       'MALICIOUS MISCHIEF, BUILDING UNDER CONSTRUCTION',\n",
       "       'WEAPONS POSSESSION BY JUVENILE SUSPECT',\n",
       "       'VIOLATION OF CALIF UNEMPLOYMENT INSURANCE ACT',\n",
       "       'LASERS, DISCHARGING OR LIGHTS AT AIRCRAFT',\n",
       "       'ATTEMPTED MAYHEM WITH A KNIFE', 'ATTEMPTED RAPE WITH A GUN',\n",
       "       'HAZARDOUS SUBSTANCES, DEPOSITING',\n",
       "       'SAFE BURGLARY OF AN APARTMENT', 'ACCIDENTAL SHOOTING',\n",
       "       'SCHOOL GROUNDS, ENTRY BY SEX OFFENDER',\n",
       "       'BURGLARY,HOTEL UNDER CONSTRUCTION, UNLAWFUL ENTRY',\n",
       "       'OBSCENE MATTER, DISTRIBUTION TO MINORS',\n",
       "       'POSSESSION OF AMPHETAMINE',\n",
       "       \"ASSAULT OR ATTEMPTED MURDER UPON GOV'T OFFICERS\",\n",
       "       'RECOVERED VEHICLE - STOLEN OUTSIDE SF',\n",
       "       'VEHICLE, RECOVERED, CAMPER-HOUSE CAR-MOTOR HOME',\n",
       "       'ATTEMPTED ROBBERY SERVICE STATION W/DEADLY WEAPON',\n",
       "       'VANDALISM WITH NOXIOUS CHEMICAL', 'VEHICLE, RECOVERED, AUTO',\n",
       "       'POSS OF FIREARM SILENCER', 'ESCAPEE, JUVENILE', 'SUICIDE',\n",
       "       'TELEPHONE OR TELEGRAPH MESSAGE, SENDING FALSE',\n",
       "       'POSSESSION OF OPIUM FOR SALES', 'SAFE BURGLARY OF A WAREHOUSE',\n",
       "       'EAVESDROPPING DEVICES, SALE OR USE', 'TAMPERING WITH MAIL',\n",
       "       'BATTERY DURING LABOR DISPUTE', 'VEHICLE, RECOVERED, MOTORCYCLE',\n",
       "       'BURGLARY OF HOTEL ROOM, ATTEMPTED FORCIBLE ENTRY',\n",
       "       'TRANSPORTATION OF METHADONE',\n",
       "       'SELLING RESTRICTED GLUE TO JUVENILES',\n",
       "       'CONTROLLED SUBSTANCE VIOLATION, LOITERING FOR',\n",
       "       'POSSESSION OF GAMBLING PARAPHERNALIA',\n",
       "       'ROBBERY OF A SERVICE STATION WITH A KNIFE',\n",
       "       'GRAND THEFT COIN OPERATED MACHINE',\n",
       "       'ATTEMPTED THEFT COIN OPERATED MACHINE', 'SUICIDE BY DROWNING',\n",
       "       'POSSESSION OF OPIUM', \"MEGAN'S LAW NOTIFICATION\",\n",
       "       'ATTEMPTED AUTO STRIP',\n",
       "       'SALES COCAINE BASE/SCHOOLYARD TRAFFICKING ACT VIO',\n",
       "       'ASSAULT TO RAPE WITH A DANGEROUS WEAPON',\n",
       "       'CRIMES AGAINST REVENUE & PROPERTY OF STATE', 'FORTUNE TELLING',\n",
       "       'VISITING WHERE DRUGS ARE USED OR SMOKED',\n",
       "       'ROBBERY,  ATM, KNIFE, ATT.',\n",
       "       'POSSESSION OF OBSCENE MATTER FOR SALE',\n",
       "       'SCHOOL STUDENT OR EMPLOYEE ENTERING  CAMPUS AFTER SUSPENSION OR DISMISSAL',\n",
       "       'POSSESSION OF OPIUM DERIVATIVE FOR SALES',\n",
       "       'HEATING VIOLATION  APT/HOTEL',\n",
       "       'ASSAULT, AGGRAVATED, ON POLICE OFFICER, W/ SEMI AUTO',\n",
       "       'POSSESSION OF BARBITUATES', 'VIN SWITCH',\n",
       "       'HAZARDOUS MATERIALS, DUMP OIL INTO SEWERS',\n",
       "       'FALSE REPORT OF POLICE MISCONDUCT', 'PETTY THEFT PHONE BOOTH',\n",
       "       'BATHROOM HOLE, LOOKING THROUGH',\n",
       "       'FORGERY, FALSE ENTRIES IN RECORDS OR RETURNS',\n",
       "       'BURGLARY,FLAT UNDER CONSTRUCTION, ATT. FORCIBLE',\n",
       "       'ATTEMPTED SUICIDE BY ASPHYXIATION',\n",
       "       'OPERATING WITHOUT DANCEHALL PERMIT',\n",
       "       'SOLICITS TO VISIT HOUSE OF PROSTITUTION',\n",
       "       'PUBLIC UTILITY INFORMATION, FRAUDULENTLY OBTAINING',\n",
       "       'EMBEZZLEMENT, PETTY THEFT PRIVATE PROPERTY',\n",
       "       'ATTEMPTED RAPE, ARMED WITH A SHARP INSTRUMENT',\n",
       "       'GUIDE DOG, INTERFERING WITH', 'TRANSPORTATION OF HALLUCINOGENIC',\n",
       "       'ACCESS CARD INFORMATION, PUBLICATION OF',\n",
       "       'ASSAULT, AGGRAVATED, W/ MACHINE GUN',\n",
       "       'ASSAULT, AGGRAVATED, W/ SEMI AUTO', 'LODGING IN PARK', 'ESCAPES',\n",
       "       'DRIVING, DRAG RACING', 'PERJURY', 'ASSAULT BY POISONING',\n",
       "       'LOUDSPEAKER OR SOUND TRUCK PERMIT VIOLATION',\n",
       "       'DRUG OFFENDER, PRESENCE  NEAR SCHOOL GROUNDS',\n",
       "       'MISPLACED VEHICLE', 'ESCAPE FROM HOSPITAL WITH FORCE',\n",
       "       'POSSESSION OF MACHINE GUN',\n",
       "       'MONEY OFFENSE RELATED TO NARCOTICS TRAFFICKING',\n",
       "       'KIDNAPPER, POSING AS', 'COMMISSION OF FELONY WHILE ARMED',\n",
       "       'DESTRUCTIVE DEVICE, POSSESSION OF MATERIALS',\n",
       "       'JUVENILE PAROLE VIOLATOR', 'SHORT CHANGE, GRAND THEFT',\n",
       "       'VEHICLE, RECOVERED, OTHER VEHICLE', 'THEFT, DRUNK ROLL, ATT.',\n",
       "       'SALE OF ALCOHOL BY MINOR', 'MALICIOUS MISCHIEF',\n",
       "       'PROCUREMENT, PIMPING, & PANDERING',\n",
       "       'POSSESSION OF BARBITUATES FOR SALES',\n",
       "       'SALE OF ALCOHOL TO MINOR IN BAR',\n",
       "       'HAZARDOUS MATERIALS, DUMPING IN UNAUTHORIZED LOCATION',\n",
       "       'OBSTRUCTING HEALTH FACILITY, PLACE OF WORSHIP, OR SCHOOL',\n",
       "       'POLICE BROADCAST, INTERCEPTION TO COMMIT CRIME',\n",
       "       'ATTEMPTED ROBBERY OF A BANK WITH A KNIFE',\n",
       "       'ATTEMPTED ROBBERY CHAIN STORE WITH A GUN',\n",
       "       'ATTEMPTED ROBBERY COMM. ESTABLISHMENT W/KNIFE',\n",
       "       'ASSAULT, AGGRAVATED, ON POLICE OFFICER, W/ FULL AUTO',\n",
       "       'DISPLAY & SALE OF SPRAY PAINT & MARKER PENS',\n",
       "       'ATTEMPTED RAPE, ARMED WITH A DANGEROUS WEAPON',\n",
       "       'AGGRAVATED ASSAULT ON POLICE OFFICER WITH A GUN',\n",
       "       'BRIBERY OF WITNESSES',\n",
       "       'HAZARDOUS MATERIALS,  DUMP ANY SUBSTANCE INTO WATER',\n",
       "       'DOG, FIGHTING;  OWNING, FIGHTING, OR ATTENDING FIGHT',\n",
       "       'PUTTING SLUGS IN COIN OPERATED MACHINES',\n",
       "       'ATTEMPTED ROBBERY SERVICE STATION W/BODILY FORCE',\n",
       "       'SOLICITING MINOR TO COMMIT FELONY',\n",
       "       'EMBEZZLEMENT, GRAND THEFT BY COLLECTOR', 'POISONING ANIMALS',\n",
       "       'TERRORIZING BY ARSON OR EXPLOSIVE DEVICE',\n",
       "       'WEARING THE APPAREL OF OPPOSITE SEX TO DECEIVE',\n",
       "       'VEHICLE, RECOVERED, MOBILE HOME-TRAILER', 'SALE OF AMPHETAMINE',\n",
       "       'EMBEZZLEMENT, GRAND THEFT PRIVATE PROPERTY',\n",
       "       'BURGLARY,APT UNDER CONSTRUCTION, ATT. FORCIBLE',\n",
       "       'ROBBERY, VEHICLE FOR HIRE, ATT., W/ GUN',\n",
       "       'ASSAULT TO RAPE WITH A SHARP INSTRUMENT',\n",
       "       'MINOR PURCHASING ALCOHOL', 'SUICIDE BY INGESTION',\n",
       "       'HAZARDOUS MATERIALS, SPILL LOAD',\n",
       "       'EMBEZZLEMENT, GRAND THEFT BY PROPERTY CARRIER',\n",
       "       'HAZARDOUS MATERIALS, FAILURE TO COMPLY W/REGULATIONS',\n",
       "       'ROBBERY, VEHICLE FOR HIRE, ATT., W/ FORCE',\n",
       "       'ALCOHOLIC BEVERAGE, PROCURING SALE OF',\n",
       "       'ASSAULT TO ROB WITH BODILY FORCE',\n",
       "       'VIOLATION OF STATE LABOR CODE', 'YOUTH COURT', 'ESCAPE FROM JAIL',\n",
       "       'BATTERY BY JUVENILE SUSPECT',\n",
       "       'BURGLARY,WAREHOUSE UNDER CONSTRT, UNLAWFUL ENTRY',\n",
       "       'ATTEMPTED ROBBERY SERVICE STATION WITH A GUN',\n",
       "       'DRUG LAB APPARATUS, POSSESSION',\n",
       "       'PUSH-CART PEDDLER PERMIT VIOLATION',\n",
       "       'ATTEMPTED SUICIDE BY FIREARMS', 'INCEST',\n",
       "       'ENCOURAGE MINOR TO USE CONTROLLED SUBSTANCE',\n",
       "       'BIGAMY, INCEST, AND THE CRIME AGAINST NATURE (GENERAL)',\n",
       "       'DISTURBANCE OF NON-RELIGIOUS, NON-POLITICAL ASSEMBLY',\n",
       "       'POSS OF FIRE BOMB',\n",
       "       'CITIZENSHIP OR ALIEN REGISTRATION, MAKING FALSE DOCUMENT',\n",
       "       'FAILURE TO PROVIDE FOR PARENTS',\n",
       "       'CABLE TV CONNECTION OR DECODING DEVICE, UNAUTHORIZED',\n",
       "       'SALE OF SATELLITE TELEPHONE NUMBER',\n",
       "       'SNIPER SCOPE, POSSESSION OF',\n",
       "       'TERRORIZING BY MARKING PRIVATE PROPERTY',\n",
       "       'OBSCENE OR LEWD PLAYS/PERFORMANCES',\n",
       "       'ESCAPE OF PRISONER WHILE HOSPITALIZED',\n",
       "       'INJURY TO RAILROADS/RAILROAD BRIDGES',\n",
       "       'OPERATING WITHOUT CABARET PERMIT', 'SALE OF BARBITUATES',\n",
       "       'BOOKMAKING', 'PUTTING SLUGS IN TELEPHONE BOX',\n",
       "       'AFFIXING ADVERTISMENTS TO POLES',\n",
       "       'EMBEZZLEMENT, PETTY THEFT BY BROOKERS/AGENTS', 'ACCIDENTAL BURNS',\n",
       "       'SAFE BURGLARY OF A FLAT', 'SUICIDE BY FIRE',\n",
       "       'PUTTING SLUGS IN PARKING METERS',\n",
       "       'CONCEALMENT/REMOVAL OF CHILD WITHOUT CONSENT',\n",
       "       'ENCOURAGING MINOR TO USE COCAINE', 'ATTEMPTED MOTORCYCLE STRIP',\n",
       "       'ENCOURAGE MINOR TO USE BARBITUATES', 'ARSON OF A POLICE VEHICLE',\n",
       "       'ILLEGAL CHARITABLE SOLICITATIONS', 'OBSCENE MOVIES/ACTS',\n",
       "       'PLACING WIFE IN HOUSE OF PROSTITUTION',\n",
       "       'ATTEMPTED MAYHEM WITH A GUN', 'OVERCHARGING TAXI FARE',\n",
       "       'UNKNOWN COMPLAINT', 'ASSAULT BY JUVENILE SUSPECT',\n",
       "       'UNAUTHORIZED USE OF LOUD SPEAKERS', 'FRAUDULENT AUCTION',\n",
       "       'SALE OF OPIUM DERIVATIVE',\n",
       "       'SAFE BURGLARY OF A WAREHOUSE WITH EXPLOSIVES',\n",
       "       'AGGRAVATED ASSAULT OF POLICE OFFICER, SNIPING',\n",
       "       'BURGLARY,WAREHOUSE UNDER CONSTRT, ATT. FORCIBLE',\n",
       "       'ATTEMPTED HOMICIDE WITH EXPLOSIVES',\n",
       "       'PURCHASE FEMALE FOR THE PURPOSE OF PROSTITUTION',\n",
       "       'GRAND THEFT PHONE BOOTH', 'ATTEMPTED THEFT PHONE BOOTH',\n",
       "       'VEHICLE, RECOVERED, BUS', 'ATTEMPTED SUICIDE BY DROWNING',\n",
       "       'ASSAULT TO ROB BANK WITH A GUN',\n",
       "       'BURGLARY,HOTEL UNDER CONSTRUCTION, ATT. FORCIBLE',\n",
       "       'PLANTING/CULTIVATING PEYOTE', 'REFUSAL TO IDENTIFY',\n",
       "       'SHOOTING BY JUVENILE SUSPECT',\n",
       "       'DESTROYING JAIL PROPERTY-$200 OR UNDER',\n",
       "       'EMBEZZLEMENT, GRAND THEFT PUBLIC/PRIVATE OFFICIAL'], dtype=object)"
      ]
     },
     "execution_count": 122,
     "metadata": {},
     "output_type": "execute_result"
    }
   ],
   "source": [
    "#all different Descriptions\n",
    "pd.unique(df_train_origin[\"Descript\"])"
   ]
  },
  {
   "cell_type": "code",
   "execution_count": 123,
   "id": "39250c93",
   "metadata": {},
   "outputs": [
    {
     "name": "stdout",
     "output_type": "stream",
     "text": [
      "{'WARRANT ARREST': 1, 'TRAFFIC VIOLATION ARREST': 2, 'GRAND THEFT FROM LOCKED AUTO': 3, 'GRAND THEFT FROM UNLOCKED AUTO': 4, 'STOLEN AUTOMOBILE': 5, 'PETTY THEFT FROM LOCKED AUTO': 6, 'MISCELLANEOUS INVESTIGATION': 7, 'MALICIOUS MISCHIEF, VANDALISM OF VEHICLES': 8, 'FOUND PROPERTY': 9, 'ROBBERY, ARMED WITH A KNIFE': 10, 'AGGRAVATED ASSAULT WITH BODILY FORCE': 11, 'TRAFFIC VIOLATION': 12, 'ROBBERY, BODILY FORCE': 13, 'STAY AWAY OR COURT ORDER, NON-DV RELATED': 14, 'LOST PROPERTY': 15, 'ATTEMPTED THEFT FROM LOCKED VEHICLE': 16, 'CIVIL SIDEWALKS, CITATION': 17, 'MALICIOUS MISCHIEF, VANDALISM': 18, 'SUSPICIOUS PACKAGE': 19, 'AIDED CASE, MENTAL DISTURBED': 20, 'PETTY THEFT SHOPLIFTING': 21, 'PROBATION VIOLATION': 22, 'STAY AWAY ORDER VIOLATION, DV RELATED': 23, 'DRIVERS LICENSE, SUSPENDED OR REVOKED': 24, 'STOLEN MOTORCYCLE': 25, 'GRAND THEFT FROM PERSON': 26, 'BURGLARY, VEHICLE (ARREST MADE)': 27, 'ATTEMPTED ROBBERY ON THE STREET WITH BODILY FORCE': 28, 'PETTY THEFT FROM A BUILDING': 29, 'INVESTIGATIVE DETENTION': 30, 'GRAND THEFT OF PROPERTY': 31, 'STOLEN AND RECOVERED VEHICLE': 32, 'UNDER INFLUENCE OF ALCOHOL IN A PUBLIC PLACE': 33, 'ENROUTE TO PAROLE OFFICER': 34, 'ENROUTE TO OUTSIDE JURISDICTION': 35, 'EXHIBITING DEADLY WEAPON IN A THREATING MANNER': 36, 'GRAND THEFT FROM A BUILDING': 37, 'BURGLARY OF RESIDENCE, ATTEMPTED FORCIBLE ENTRY': 38, 'PETTY THEFT OF PROPERTY': 39, 'BURGLARY OF APARTMENT HOUSE, UNLAWFUL ENTRY': 40, 'FORGERY, NOTES': 41, 'CHECKS, POSSESSION WITH INTENT TO PASS': 42, 'BURGLARY,STORE UNDER CONSTRUCTION, UNLAWFUL ENTRY': 43, 'GRAND THEFT SHOPLIFTING': 44, 'POSSESSION OF NARCOTICS PARAPHERNALIA': 45, 'RESISTING ARREST': 46, 'CHILD ABUSE (PHYSICAL)': 47, 'STOLEN PROPERTY, POSSESSION WITH KNOWLEDGE, RECEIVING': 48, 'DOMESTIC VIOLENCE': 49, 'THREATS AGAINST LIFE': 50, 'AIDED CASE': 51, 'TRESPASSING': 52, 'BURGLARY OF HOTEL ROOM, UNLAWFUL ENTRY': 53, 'POSSESSION OF MARIJUANA': 54, 'LOST/STOLEN LICENSE PLATE': 55, 'BURGLARY,BLDG. UNDER CONSTRUCTION, UNLAWFUL ENTRY': 56, 'ROBBERY OF A COMMERCIAL ESTABLISHMENT W/ A KNIFE': 57, 'FORGERY & COUNTERFEITING (GENERAL)': 58, 'FRAUDULENT GAME OR TRICK, OBTAINING MONEY OR PROPERTY': 59, 'STOLEN TRUCK': 60, 'MISSING JUVENILE': 61, 'RECKLESS DRIVING': 62, 'ROBBERY, ARMED WITH A DANGEROUS WEAPON': 63, 'VIOLATION OF RESTRAINING ORDER': 64, 'JUVENILE INVOLVED': 65, 'BATTERY, FORMER SPOUSE OR DATING RELATIONSHIP': 66, 'TRAFFIC ACCIDENT': 67, 'SHOOTING INTO INHABITED DWELLING OR OCCUPIED VEHICLE': 68, 'SUSPICIOUS OCCURRENCE': 69, 'BURGLARY, HOT PROWL, UNLAWFUL ENTRY': 70, 'ENROUTE TO DEPARTMENT OF CORRECTIONS': 71, 'POSSESSION OF MARIJUANA FOR SALES': 72, 'SALE OF MARIJUANA': 73, 'BURGLARY, HOT PROWL, ATTEMPTED FORCIBLE ENTRY': 74, 'VIOLATION OF MUNICIPAL CODE': 75, 'PAROLE VIOLATION': 76, 'BATTERY': 77, 'BURGLARY OF APARTMENT HOUSE, FORCIBLE ENTRY': 78, 'BURGLARY OF RESIDENCE, FORCIBLE ENTRY': 79, 'ROBBERY OF A CHAIN STORE WITH A DANGEROUS WEAPON': 80, 'AGGRAVATED ASSAULT WITH A DEADLY WEAPON': 81, 'POSSESSION OF METH-AMPHETAMINE': 82, 'ROBBERY OF A BANK WITH A DANGEROUS WEAPON': 83, 'BURGLARY, UNLAWFUL ENTRY': 84, 'THEFT OF ANIMALS (GENERAL)': 85, 'AGGRAVATED ASSAULT WITH A KNIFE': 86, 'CREDIT CARD, THEFT BY USE OF': 87, 'AIDED CASE -PROPERTY FOR DESTRUCTION': 88, 'FALSE IMPRISONMENT': 89, 'ROBBERY ON THE STREET, STRONGARM': 90, 'SUSPICIOUS PERSON': 91, 'PETTY THEFT BICYCLE': 92, 'MISSING ADULT': 93, 'FOUND PERSON': 94, 'RUNAWAY': 95, 'LOITERING WHERE NARCOTICS ARE SOLD/USED': 96, 'HARASSING PHONE CALLS': 97, 'INCIDENT ON SCHOOL GROUNDS': 98, 'GRAND THEFT BICYCLE': 99, 'ATTEMPTED THEFT OF A BICYCLE': 100, 'VIOLATION OF PARK CODE': 101, 'ATTEMPTED ROBBERY ON THE STREET W/DEADLY WEAPON': 102, 'ATTEMPTED GRAND THEFT PURSESNATCH': 103, 'ATTEMPTED ROBBERY WITH BODILY FORCE': 104, 'BURGLARY OF STORE, FORCIBLE ENTRY': 105, 'POSSESSION OF BURGLARY TOOLS W/PRIORS': 106, 'KIDNAPPING DURING ROBBERY': 107, 'ROBBERY,  ATM, GUN': 108, 'CONSPIRACY': 109, 'RESTRAINING ORDER NOTIFICATION/SERVICE OF RESTRAINING ORDER': 110, 'AIDED CASE, INJURED PERSON': 111, 'DRIVING WHILE UNDER THE INFLUENCE OF ALCOHOL': 112, 'INFLICT INJURY ON COHABITEE': 113, 'DISCHARGE FIREARM AT AN INHABITED DWELLING': 114, 'ROBBERY OF A CHAIN STORE WITH A GUN': 115, 'PENETRATION, FORCED, WITH OBJECT': 116, 'ORAL COPULATION, UNLAWFUL (ADULT VICTIM)': 117, 'FRAUDULENT USE OF AUTOMATED TELLER CARD': 118, 'ATM RELATED CRIME': 119, 'TAMPERING WITH A VEHICLE': 120, 'FORGERY, CREDIT CARD': 121, 'THEFT OF COMPUTERS OR CELL PHONES': 122, 'AIDED CASE, SICK PERSON': 123, 'ENGAGING IN LEWD CONDUCT - PROSTITUTION RELATED': 124, 'POSSESSION OF HEROIN': 125, 'ASSAULT WITH CAUSTIC CHEMICALS': 126, 'VIOLATION OF MUNICIPAL POLICE CODE': 127, 'BURGLARY, HOT PROWL, FORCIBLE ENTRY': 128, 'MALICIOUS MISCHIEF, BREAKING WINDOWS': 129, 'ATTEMPTED ROBBERY OF A BANK WITH BODILY FORCE': 130, 'FALSE PERSONATION': 131, 'ATTEMPTED ROBBERY WITH A DEADLY WEAPON': 132, 'AGGRAVATED ASSAULT WITH A GUN': 133, 'ASSAULT, AGGRAVATED, W/ GUN': 134, 'POSSESSION OF CONTROLLED SUBSTANCE FOR SALE': 135, 'BURGLARY, FORCIBLE ENTRY': 136, 'GRAND THEFT PICKPOCKET': 137, 'ELDER ADULT OR DEPENDENT ABUSE (NOT EMBEZZLEMENT OR THEFT)': 138, 'BURGLARY OF APARTMENT HOUSE, ATT FORCIBLE ENTRY': 139, 'ROBBERY OF A CHAIN STORE WITH A KNIFE': 140, 'BURGLARY OF STORE, UNLAWFUL ENTRY': 141, 'FIRE REPORT': 142, 'DISTURBING THE PEACE': 143, 'DEATH REPORT, CAUSE UNKNOWN': 144, 'PETTY THEFT FROM UNLOCKED AUTO': 145, 'BURGLARY OF RESIDENCE, UNLAWFUL ENTRY': 146, 'BURGLARY OF FLAT, UNLAWFUL ENTRY': 147, 'MONEY, CHANGING FACE AMOUNT': 148, 'BURGLARY,STORE UNDER CONSTRUCTION, FORCIBLE ENTRY': 149, 'ARSON OF A VEHICLE': 150, 'POSSESSION OF BURGLARY TOOLS': 151, 'BURGLARY, VEHICLE, ATT. (ARREST MADE)': 152, 'TRESPASS WITHIN 30 DAYS OF CREDIBLE THREAT': 153, 'UNDER INFLUENCE OF DRUGS IN A PUBLIC PLACE': 154, 'SODOMY (ADULT VICTIM)': 155, 'BATTERY OF A POLICE OFFICER': 156, 'FORGERY, POSSESSION DRIVERS LICENSE OR ID-CARD': 157, 'MALICIOUS MISCHIEF, GRAFFITI': 158, 'VANDALISM OR GRAFFITI TOOLS, POSSESSION': 159, 'LOCATED PROPERTY': 160, 'POSS OF LOADED FIREARM': 161, 'FALSE PRETENSES, GRAND THEFT': 162, 'CREDIT CARD, THEFT OF': 163, 'AIDED CASE, DOG BITE': 164, 'THEFT FROM MERCHANT OR LIBRARY': 165, 'PROBATION SEARCH': 166, 'ATTEMPTED ROBBERY RESIDENCE WITH BODILY FORCE': 167, 'POSS OF FIREARM BY CONVICTED FELON/ADDICT/ALIEN': 168, 'FIREARM, LOADED, IN VEHICLE, POSSESSION OR USE': 169, 'CARRYING A CONCEALED WEAPON': 170, 'MINOR WITHOUT PROPER PARENTAL CARE': 171, 'FRAUDULENT CREDIT APPLICATION': 172, 'FALSE PERSONATION TO RECEIVE MONEY OR PROPERTY': 173, 'POSSESSION OF CONTROLLED SUBSTANCE': 174, 'SEXUAL BATTERY': 175, 'TRAFFIC COLLISION, HIT & RUN, INJURY': 176, 'COUNTERFEITING, COINS OR NOTES': 177, 'POSSESSION OF BASE/ROCK COCAINE FOR SALE': 178, 'GANG ACTIVITY': 179, 'ATTEMPTED HOMICIDE WITH A GUN': 180, 'SEARCH WARRANT SERVICE': 181, 'CHILD STEALING': 182, 'COURTESY REPORT': 183, 'ATTEMPTED THEFT FROM A BUILDING': 184, 'ENROUTE TO ADULT AUTHORITY': 185, 'CHILD ABUSE, PORNOGRAPHY': 186, 'SUSPICIOUS ACT TOWARDS FEMALE': 187, 'HUMAN TRAFFICKING': 188, 'THEFT OF CHECKS OR CREDIT CARDS': 189, 'AMMUNITION, POSS. BY PROHIBITED PERSON': 190, 'ASSAULT': 191, 'ASSAULT TO RAPE WITH BODILY FORCE': 192, 'CASE CLOSURE': 193, 'ATTEMPTED HOMICIDE WITH BODILY FORCE': 194, 'SHOPLIFTING, FORCE AGAINST AGENT': 195, 'POSSESSION OF HEROIN FOR SALES': 196, 'ARSON': 197, 'MALICIOUS MISCHIEF, ADULT SUSPECT': 198, 'BURGLARY OF WAREHOUSE, FORCIBLE ENTRY': 199, 'POSS OF PROHIBITED WEAPON': 200, 'DISCHARGE FIREARM WITHIN CITY LIMITS': 201, 'OBSCENE PHONE CALLS(S)': 202, 'POSSESSION OF ALCOHOL BY MINOR': 203, 'SALE OF BASE/ROCK COCAINE': 204, 'FIREARM, CARRYING LOADED WITH INTENT TO COMMIT FELONY': 205, 'SALE OF CONTROLLED SUBSTANCE': 206, 'CIVIL SIDEWALKS, WARNING': 207, 'FALSE PRETENSES, PETTY THEFT': 208, 'MALICIOUS MISCHIEF, TIRE SLASHING': 209, 'FORCIBLE RAPE, BODILY FORCE': 210, 'DEFRAUDING AN INNKEEPER': 211, 'ATTEMPTED SHOPLIFTING': 212, 'DEATH REPORT, NATURAL CAUSES': 213, 'ENGAGING IN LEWD ACT': 214, 'LICENSE PLATE, FOUND': 215, 'ROBBERY ON THE STREET WITH A KNIFE': 216, 'ROBBERY, ARMED WITH A GUN': 217, 'ROBBERY OF A CHAIN STORE WITH BODILY FORCE': 218, 'THREATENING PHONE CALL(S)': 219, 'EVADING A POLICE OFFICER RECKLESSLY': 220, 'FIREARM, DISCHARGING AT OCCUPIED BLDG, VEHICLE, OR AIRCRAFT': 221, 'KIDNAPPING, ADULT VICTIM': 222, 'SUSPICIOUS OCCURRENCE, POSSIBLE SHOTS FIRED': 223, 'DEFRAUDING TAXI DRIVER': 224, 'LOST PROPERTY, PETTY THEFT': 225, 'PERMIT VIOLATION, POLICE (GENERAL)': 226, 'ATTEMPTED HOMICIDE WITH A KNIFE': 227, 'CONSUMING ALCOHOL IN PUBLIC VIEW': 228, 'FALSE EVIDENCE OF VEHICLE REGISTRATION': 229, 'DISTURBING THE PEACE, COMMOTION': 230, 'ATTEMPTED THEFT FROM UNLOCKED VEHICLE': 231, 'FALSE FIRE ALARM': 232, 'DOG, STRAY OR VICIOUS': 233, 'THEFT, GRAND, OF FIREARM': 234, 'DISSUADING WITNESS, VICTIM': 235, 'POSS OF TEAR GAS WEAPON': 236, 'INJURY TO TELEGRAPH/TELEPHONE LINES': 237, 'ROBBERY OF A RESIDENCE WITH BODILY FORCE': 238, 'DRIVING WHILE UNDER THE INFLUENCE OF DRUGS': 239, 'ROBBERY ON THE STREET WITH A GUN': 240, 'TRICK AND DEVICE, PETTY THEFT': 241, 'ATTEMPTED ARSON': 242, 'FLAMMABLE OR EXPLOSIVE DEVICE, POSSESSION': 243, 'POSSESSION OF METH-AMPHETAMINE FOR SALE': 244, 'TRANSPORTATION OF METH-AMPHETAMINE': 245, 'GRAND THEFT AUTO STRIP': 246, 'WEAPON, DEADLY, EXHIBITING TO RESIST ARREST': 247, 'THREAT OR FORCE TO RESIST EXECUTIVE OFFICER': 248, 'SELL OR FURNISH ALCOHOL TO INTOXICATED PERSON': 249, 'TRAFFIC COLLISION, HIT & RUN, PROPERTY DAMAGE': 250, 'STOLEN MISCELLANEOUS VEHICLE': 251, 'FALSE ID TO PEACE OFFICER': 252, 'ROBBERY ON THE STREET WITH A DANGEROUS WEAPON': 253, 'CIVIL SIDEWALKS, VIOLATION': 254, 'THREATS TO SCHOOL TEACHERS': 255, 'POSSESSION OF AIR GUN': 256, 'POSSESSION OF BASE/ROCK COCAINE': 257, 'ATTEMPTED MAYHEM WITH A DEADLY WEAPON': 258, 'ROBBERY OF A COMMERCIAL ESTABLISHMENT, STRONGARM': 259, 'BURGLARY,BLDG. UNDER CONSTRUCTION, FORCIBLE ENTRY': 260, 'STALKING': 261, 'CHECKS, MAKE OR PASS FICTITIOUS': 262, 'CHECKS OR LEGAL INSTRUMENTS, UTTERING FORGED': 263, 'SOLICITS FOR ACT OF PROSTITUTION': 264, 'LOITERING FOR PURPOSE OF PROSTITUTION': 265, 'LICENSE PLATE, RECOVERED': 266, 'POSSESSION OF COCAINE FOR SALES': 267, 'TARASOFF REPORT': 268, 'EMBEZZLED VEHICLE': 269, 'FAILURE TO REGISTER AS SEX OFFENDER': 270, 'ROBBERY,  ATM, GUN, ATT.': 271, 'PROBATION VIOLATION, DV RELATED': 272, 'PREJUDICE-BASED INCIDENT': 273, 'DEATH, ACCIDENTAL': 274, 'IMPOUNDED VEHICLE': 275, 'BATTERY WITH SERIOUS INJURIES': 276, 'DISORDERLY HOUSE, KEEPING': 277, 'TRANSPORTATION OF MARIJUANA': 278, 'ATTEMPTED STOLEN VEHICLE': 279, 'VEHICLE ALARM CODE GRABBING DEVICE, POSSESS OR USE': 280, 'CARRYING OF CONCEALED WEAPON BY CONVICTED FELON': 281, 'MAINTAINING A PUBLIC NUISANCE AFTER NOTIFICATION': 282, 'OBSTRUCTIONS ON STREETS/SIDEWALKS': 283, 'VIOLATION OF EMERGENCY PROTECTIVE ORDER': 284, 'MAINTAINING A PUBLIC NUISANCE': 285, 'BURGLARY, ATTEMPTED FORCIBLE ENTRY': 286, 'COMMITTING PUBLIC NUISANCE': 287, 'ANNOY OR MOLEST CHILDREN': 288, 'INDECENT EXPOSURE': 289, 'AGGRAVATED ASSAULT OF POLICE OFFICER,BODILY FORCE': 290, 'ATTEMPTED KIDNAPPING, JUVENILE VICTIM': 291, 'ATTEMPTED GRAND THEFT FROM PERSON': 292, 'ROBBERY OF A RESIDENCE WITH A KNIFE': 293, 'VIOLATION OF STAY AWAY ORDER': 294, 'MISCELLANEOUS STATE FELONY': 295, 'ATTEMPTED SUICIDE': 296, 'PROPERTY FOR IDENTIFICATION': 297, 'PLANTING/CULTIVATING MARIJUANA': 298, 'ACCESS CARD INFORMATION, THEFT OF': 299, 'MISCELLANEOUS STATE MISDEMEANOR': 300, 'SHORT CHANGE, PETTY THEFT': 301, 'THEFT, DRUNK ROLL, <$50': 302, 'KIDNAPPING, JUVENILE VICTIM': 303, 'TRUANT, HABITUAL': 304, 'DISTURBING THE PEACE, FIGHTING': 305, 'SUSPICIOUS AUTO, POSSIBLY SEX': 306, 'BURGLARY,RESIDENCE UNDER CONSTRT, FORCIBLE ENTRY': 307, 'BRIBERY OF EXECUTIVE OFFICER': 308, 'THREATENING SCHOOL OR PUBLIC EMPLOYEE': 309, 'CRUELTY TO ANIMALS': 310, 'BURGLARY OF HOTEL ROOM, FORCIBLE ENTRY': 311, 'LOITERING ABOUT SCHOOL/PLAYGROUND': 312, 'POSSESSION OF COCAINE': 313, 'SPEEDING': 314, 'SCHOOL, PUBLIC, TRESPASS': 315, 'ROBBERY OF A COMMERCIAL ESTABLISHMENT W/ WEAPON': 316, 'ENROUTE TO U.S. MARSHALL': 317, 'ASSAULT ON A POLICE OFFICER WITH A DEADLY WEAPON': 318, 'PETTY THEFT AUTO STRIP': 319, 'ATTEMPTED PETTY THEFT OF PROPERTY': 320, 'ATTEMPTED SIMPLE ASSAULT': 321, 'BURGLARY OF FLAT, FORCIBLE ENTRY': 322, 'COUNTERFEITING, POSSESSION COINS OR NOTES': 323, 'ATTEMPTED ROBBERY ON THE STREET WITH A GUN': 324, 'MALICIOUS MISCHIEF, JUVENILE SUSPECT': 325, 'MAYHEM WITH A KNIFE': 326, 'UNLAWFUL DISSUADING/THREATENING OF A WITNESS': 327, 'DRIVING, RECKLESS, WITH INJURY': 328, 'WEAPON, DEADLY, CARRYING WITH INTENT TO COMMIT ASSAULT': 329, 'OPEN CONTAINER OF ALCOHOL IN VEHICLE': 330, 'RESISTING PEACE OFFICER, CAUSING THEIR SERIOUS INJURY OR DEATH': 331, 'ENROUTE TO PROBATION OFFICER': 332, 'REMAINING ON CAMPUS WITHOUT CONSENT': 333, 'SCHOOL PROPERTY, DISTURBANCE ON': 334, 'WEAPON, POSSESS OR BRING OTHER ON SCHOOL GROUNDS': 335, 'UNUSUAL OCCURENCE': 336, 'FALSE PERSONATION AND CHEAT CRIMES (GENERAL)': 337, 'CURFEW VIOLATION': 338, 'POSSESSION OF HALLUCINOGENIC FOR SALES': 339, 'SALE OF HALLUCINOGENIC': 340, 'CARJACKING WITH A KNIFE': 341, 'KIDNAPPING DURING CARJACKING': 342, 'MAINTAINING PREMISE WHERE NARCOTICS ARE SOLD/USED': 343, 'ARMOR PENETRATING AMMUNITION, POSSESSION': 344, 'POST RELEASE COMMUNITY SUPERVISION': 345, 'FORGE OR ALTER PRESCRIPTION': 346, 'DISCHARGING IN GROSSLY NEGLIGENT MANNER': 347, 'GRAND THEFT PURSESNATCH': 348, 'ATTEMPTED ROBBERY WITH A KNIFE': 349, 'CARJACKING WITH BODILY FORCE': 350, 'CHILD, INFLICTING INJURY RESULTING IN TRAUMATIC CONDITION': 351, 'WEAPON, POSSESSING IN PUBLIC BUILDING OR OPEN MEETING': 352, 'EMBEZZLEMENT FROM DEPENDENT OR ELDER ADULT BY CARETAKER': 353, 'BURGLARY,RESIDENCE UNDER CONSTRT, UNLAWFUL ENTRY': 354, 'AUTO, GRAND THEFT OF': 355, 'DESTITUTE MINOR': 356, 'STOLEN CHECKS, POSSESSION': 357, 'FIRE, UNLAWFULLY CAUSING': 358, 'ROBBERY OF A BANK WITH BODILY FORCE': 359, 'BEYOND PARENTAL CONTROL': 360, 'FIREARMS, SEIZING AT SCENE OF DV': 361, 'FALSE CLAIMS, PRESENTING TO GOVERNMENT': 362, 'TURNED IN GUN': 363, 'LOCATED EXPLOSIVE DEVICE': 364, 'SUICIDE BY JUMPING': 365, 'ANIMAL, FIGHTING': 366, 'ARSON OF AN INHABITED DWELLING': 367, 'BURGLARY,STORE UNDER CONSTRUCTION, ATT. FORCIBLE': 368, 'LOITERING WHILE CARRYING CONCEALED WEAPON': 369, 'DANGER OF LEADING IMMORAL LIFE': 370, 'CHECKS, FORGERY (MISDEMEANOR)': 371, 'DRIVES VEHICLE ALONG TRACK OF RAILROAD': 372, 'TRANSPORTATION OF HEROIN': 373, 'POSSESSION OF OPIATES FOR SALES': 374, 'TRANSPORTATION OF OPIATES': 375, 'DRIVING WHILE UNDER THE INFLUENCE OF ALCOHOL, W/INJURY': 376, 'ATTEMPTED KIDNAPPING, ADULT VICTIM': 377, 'PHONE CALLS, OBSCENE': 378, 'VIOLATION OF FIRE CODE': 379, 'UNLAWFUL SEXUAL INTERCOURSE': 380, 'SUSPICIOUS ACT TOWARDS CHILD': 381, 'SALE OF OPIUM': 382, 'PHONE CALLS IN VIOLATION OF DV COURT ORDER': 383, 'EMBEZZLEMENT, GRAND THEFT BY BROOKERS/AGENTS': 384, 'TRANSPORTAION OF CONTROLLED SUBSTANCE': 385, 'STOLEN TRAILER': 386, 'FALSE REPORT OF EMERGENCY': 387, 'ATTEMPTED ROBBERY CHAIN STORE WITH A KNIFE': 388, 'POSSESSION OF HALLUCINOGENIC': 389, 'THEFT, DRUNK ROLL, $50-$200': 390, 'FAILURE TO PROVIDE FOR CHILD': 391, 'ELECTRICAL  OR GAS LINES, INTERFERING WITH': 392, 'WEAPON, ASSAULT, POSSESSION, MANUFACTURE, OR SALE': 393, 'VIN, ALTER OR REMOVE': 394, 'ATTEMPTED ROBBERY CHAIN STORE WITH BODILY FORCE': 395, 'LODGING WITHOUT PERMISSION': 396, 'LOST PROPERTY, GRAND THEFT': 397, 'ROBBERY,  ATM, FORCE, ATT.': 398, 'CELLULAR OR CORDLESS PHONE COMMUNICATIONS, INTERCEPTING': 399, 'EVADING A POLICE VEHICLE OR BICYCLE': 400, 'EXTORTION': 401, 'LICENSE PLATE OR TAB, THEFT OF': 402, 'PAROLE SEARCH': 403, 'THEFT OF UTILITY SERVICES': 404, 'FIREARM, ARMED WHILE POSSESSING CONTROLLED SUBSTANCE': 405, 'ATTEMPTED MAYHEM WITH BODILY FORCE': 406, 'MAYHEM WITH A DEADLY WEAPON': 407, 'ATTEMPTED HOMICIDE WITH A DANGEROUS WEAPON': 408, 'GAMBLING': 409, 'POSSESSION OF GAMBLING DEVICES': 410, 'SEXUAL ASSAULT, AGGRAVATED, OF CHILD': 411, 'CREDIT CARD, INCOMPLETE OR COUNTERFEIT': 412, 'CONTRIBUTING TO THE DELINQUENCY OF MINOR': 413, 'ATTEMPTED ROBBERY ON THE STREET WITH A KNIFE': 414, 'STOLEN ACCESS CARD, POSSESSION': 415, 'BURGLARY,APT UNDER CONSTRUCTION, UNLAWFUL ENTRY': 416, 'DISTURBING THE PEACE, SWEARING': 417, 'ROBBERY OF A BANK WITH A GUN': 418, 'MALICIOUS MISCHIEF, STREET CARS/BUSES': 419, 'FALSE REPORT OF CRIME': 420, 'SALE OF ALCOHOL TO MINOR': 421, 'MONEY, PROPERTY OR LABOR, FRAUDULENTLY OBTAINING': 422, 'DAMAGE TO PARKING METERS': 423, 'THROWING INJURIOUS SUBSTANCE ON HIGHWAY': 424, 'FIREARM, DISCHARGING IN GROSSLY NEGLIGENT MANNER': 425, 'POSSESSION OF AMPHETAMINE FOR SALES': 426, 'PRIVACY, INVASION OF  (GENERAL)': 427, 'TOBACCO PRODUCTS, SELLING OR FURNISHING TO MINOR': 428, 'EMBEZZLEMENT, PETTY THEFT BY EMPLOYEE': 429, 'IMPERSONATING A POLICE OFFICER': 430, 'TRICK AND DEVICE, ATTEMPTED': 431, 'ROBBERY, VEHICLE FOR HIRE, ATT., W/ OTHER WEAPON': 432, 'ROBBERY OF A BANK WITH A KNIFE': 433, 'THEFT, BICYCLE, <$50, SERIAL NUMBER KNOWN': 434, 'BURGLARY OF STORE, ATTEMPTED FORCIBLE ENTRY': 435, 'SWITCHBLADE KNIFE, POSSESSION': 436, 'WEAPON, ASSAULT, REGISTRATION OR TRANSFER VIOLATION': 437, 'VEHICLE, DISABLED PLACARD VIOLATION': 438, 'POSSESSION OF CAUSTIC CHEMICAL': 439, 'TRANSPORTATION OF COCAINE': 440, 'CHECKS, FORGERY (FELONY)': 441, 'FIREARM, POSSESSION OF WHILE WEARING MASK': 442, 'ROBBERY,  ATM, OTHER WEAPON': 443, 'EMBEZZLEMENT, PETTY THEFT': 444, 'AEROSOL CONTAINER; SALE, PURCHASE OR POSSESSION OF': 445, 'ATTEMPTED ROBBERY COMM. ESTAB. WITH BODILY FORCE': 446, 'IMMORAL ACTS OR DRUNK IN PRESENCE OF CHILD': 447, 'POSSESSION OF METHADONE': 448, 'PUBLIC TRANSIT CRIMES - INFRACTIONS': 449, 'EVADING PAYMENT OF RAILROAD FARE': 450, 'SHELTER': 451, 'INTOXICATED JUVENILE': 452, 'ATTEMPTED EXTORTION': 453, 'ROBBERY OF A COMMERCIAL ESTABLISHMENT WITH A GUN': 454, 'POSSESSION OF ARTICLES WITH IDENTIFICATION REMOVE': 455, 'CHECKS, NON-SUFFICIENT FUNDS (MISDEMEANOR)': 456, 'THEFT, GRAND, BY FIDUCIARY, >$400 IN 12 MONTHS': 457, 'BURGLARY,RESIDENCE UNDER CONSTRT, ATT. FORCIBLE': 458, 'MANUFACTURE OR SALE OF COUNTERFEIT GOODS': 459, 'UNDER THE INFLUENCE OF CONTROLLED SUBSTANCES': 460, 'ROBBERY,  ATM, KNIFE': 461, 'ARSON OF A COMMERCIAL BUILDING': 462, 'STOLEN CELLULAR PHONE, NON-CLONED, POSSESSION': 463, 'MALICIOUS MISCHIEF, BREAKING WINDOWS WITH BB GUN': 464, 'AUDIOVISUAL (VIDEO OR SOUND) RECORDINGS, UNAUTHORIZED': 465, 'STOLEN ELECTRONICS, POSSESSION': 466, 'RAPE, SPOUSAL': 467, 'FORGERY, DRIVERS LICENSE OR ID-CARD': 468, 'WILLFUL CRUELTY TO CHILD': 469, 'FALSIFYING JUDICIAL & PUBLIC RECORDS & DOCUMENTS': 470, 'CASH DISPENSING MACHINES (ATM), LOITERING PROHIBI': 471, 'EMBEZZLEMENT, GRAND THEFT BY EMPLOYEE': 472, 'INDECENT EXPOSURE (JUVENILE VICTIM)': 473, 'CHILD ABUSE SEXUAL': 474, 'CHILDREN, ABANDONMENT & NEGLECT OF (GENERAL)': 475, 'AGGRAVATED ASSAULT ON POLICE OFFICER WITH A KNIFE': 476, 'AUTO IMPOUNDED': 477, 'INTERFERRING WITH A FIREMAN': 478, 'THROWING SUBSTANCE AT VEHICLE': 479, 'TRICK AND DEVICE, GRAND THEFT': 480, 'VANDALISM OR GRAFFITI ON OR WITHIN 100 FT OF HIGHWAY': 481, 'ARSON OF A VACANT BUILDING': 482, 'TRADE SECRETS, THEFT OR UNAUTHORIZED COPYING': 483, 'MINOR PURCHASING OR RECEIVING TOBACCO PRODUCT': 484, 'SALE OF HEROIN': 485, 'EMBEZZLEMENT, GRAND THEFT LEASED PROPERTY': 486, 'VIOLATION OF FEDERAL STATUTE': 487, 'ATTEMPTED RAPE, BODILY FORCE': 488, 'PETTY THEFT COIN OPERATED MACHINE': 489, 'POSSESSION OF OPIATES': 490, 'GRAND THEFT BY PROSTITUTE': 491, 'OTHER OFFENSES AGAINST PUBLIC JUSTICE': 492, 'PEDDLING WITHOUT A LICENSE': 493, 'SALE OF METH-AMPHETAMINE': 494, 'FAILURE TO HEED RED LIGHT AND SIREN': 495, 'SUICIDE BY ASPHYXIATION': 496, 'BURGLARY,HOTEL UNDER CONSTRUCTION, FORCIBLE ENTRY': 497, 'VIOLATION OF RESTRICTIONS ON A FIREARM TRANSFER': 498, 'ATTEMPTED ROBBERY WITH A GUN': 499, 'ORAL COPULATION': 500, 'PERMIT VIOLATION, ENTERTAINMENT': 501, 'CARJACKING WITH A GUN': 502, 'REAL ESTATE FRAUD': 503, 'BURGLARY OF FLAT, ATTEMPTED FORCIBLE ENTRY': 504, 'THREAT TO STATE OFFICIAL OR JUDGE': 505, 'IDENTIFICATION, GOVERNMENT, POSSESS, MAKE OR SELL FALSE': 506, 'ATTEMPTED ROBBERY RESIDENCE WITH A KNIFE': 507, 'INDECENT EXPOSURE WITH PRIOR CONVICTION': 508, 'INTERFERRING WITH A POLICE OFFICER': 509, 'ROBBERY OF A RESIDENCE WITH A GUN': 510, 'MAYHEM WITH BODILY FORCE': 511, 'COMPUTER SYSTEM, ACCESSING, COPYING, OR DAMAGING': 512, 'FORCIBLE RAPE, ARMED WITH A SHARP INSTRUMENT': 513, 'CHILD ABUSE, EXPLOITATION': 514, 'DAMAGE TO MAIL BOX': 515, 'MISCELLANEOUS LIQOUR LAW VIOLATION': 516, 'SALE OF COCAINE': 517, 'ABANDONMENT OF CHILD': 518, 'PLACING TRASH ON THE STREET': 519, 'SPITTING ON SIDEWALK': 520, 'ACTS AGAINST PUBLIC TRANSIT': 521, 'HAZARDOUS MATERIALS, SPILL ON ROADWAY': 522, 'OPERATING TAXI WITHOUT A PERMIT': 523, 'PETTY THEFT WITH PRIOR': 524, 'FALSE REPORT OF BOMB': 525, 'CARJACKING WITH A DANGEROUS WEAPON': 526, 'THROWING OBJECT AT COMMON CARRIER, PASSENGER OR FREIGHT': 527, 'DUMPING OF OFFENSIVE MATTER': 528, 'DEATH, NON-MANSLAUGHTER AUTO ACCIDENT': 529, 'FIREARM WITH ALTERED IDENTIFICATION': 530, 'TAMPERING WITH MARKS ON FIREARM': 531, 'FIREARM POSSESSION IN SCHOOL ZONE': 532, 'PERMIT VIOLATION, VALET PARKING': 533, 'BURGLARY,FLAT UNDER CONSTRUCTION, FORCIBLE ENTRY': 534, 'SODOMY': 535, 'JUDGE/JUROR ACCEPTING A BRIBE': 536, 'TRESPASSING OR LOITERING NEAR POSTED INDUSTRIAL PROPERTY': 537, 'OBSTRUCTING PUBLIC THOROUGHFARE': 538, 'GRAFFITI ON GOVERNMENT VEHICLES OR PUBLIC TRANSPORTATION': 539, 'UNLAWFUL TRANSPORTATION OF ALCOHOL': 540, 'CIVIL SIDEWALKS, BOOKING': 541, 'WEARING MASK OR DISGUISE FOR UNLAWFUL PURPOSE': 542, 'ATTEMPTED SUICIDE BY LACERATION': 543, 'EMBEZZLEMENT (GENERAL)': 544, 'POSSESSION OF FIRECRACKERS': 545, 'POSS OF DEADLY WEAPON WITH INTENT TO ASSAULT': 546, 'BURGLARY,WAREHOUSE UNDER CONSTRT, FORCIBLE ENTRY': 547, 'SAFE BURGLARY OF A HOTEL': 548, 'PRESCRIPTION, FORGE OR ALTER (4390 B&P)': 549, 'THEFT OF WRITTEN INSTRUMENT': 550, 'SEXUAL ASSAULT, ADMINISTERING DRUG TO COMMIT': 551, 'BURGLARY,APT UNDER CONSTRUCTION, FORCIBLE ENTRY': 552, 'ATTEMPTED SUICIDE BY JUMPING': 553, 'AGGRESSIVE SOLICITING': 554, 'HABITUAL TRUANT': 555, 'HYPODERMIC NEEDLE OR SYRINGE, POSSESSION': 556, 'DAMAGE/DESTRUCTION OF MAIL': 557, 'ATTEMPTED ROBBERY OF A BANK WITH A DEADLY WEAPON': 558, 'ATTEMPTED ROBBERY RESIDENCE WITH A GUN': 559, 'BEGGING': 560, 'SAFE BURGLARY OF A STORE': 561, 'EMBEZZLEMENT, GRAND THEFT': 562, 'SALE OF OPIATES': 563, 'PANDERING': 564, 'MALICIOUS MISCHIEF, FICTITIOUS PHONE CALLS': 565, 'PETTY THEFT MOTORCYCLE STRIP': 566, 'THEFT, BOAT': 567, 'CHECKS, NON-SUFFICIENT FUNDS (FELONY)': 568, 'ESCAPE OR ASSISTING ESCAPE': 569, 'ATTEMPTED SUICIDE BY INGESTION': 570, 'TAKING CONTRABAND INTO A REFORMATORY': 571, 'UNLAWFUL ASSEMBLY': 572, 'BURGLARY OF WAREHOUSE, ATTEMPTED FORCIBLE ENTRY': 573, 'ATTEMPTED ROBBERY RESIDENCE WITH A DEADLY WEAPON': 574, 'BURGLARY OF WAREHOUSE, UNLAWFUL ENTRY': 575, 'PIMPING': 576, 'DISRUPTS SCHOOL ACTIVITIES': 577, 'CONCEAL CRIME OR WITHHOLD EVIDENCE, ACCEPTING PAYMENT TO': 578, 'ATTEMPTED ROBBERY COMM. ESTABLISHMENT WITH A GUN': 579, 'DAMAGE TO FIRE ALARM APPARATUS': 580, 'THEFT, DRUNK ROLL, $200-$400': 581, 'STOLEN COMPUTER, POSSESSION': 582, 'THEFT, BICYCLE, <$50, NO SERIAL NUMBER': 583, 'PHONE CALLS, HARASSING, TO 911': 584, 'RIOT': 585, 'DOG, BARKING': 586, 'ATTEMPTED ROBBERY OF A BANK WITH A GUN': 587, 'FAILURE TO REGISTER AS NARCOTICS ADDICT': 588, 'ASSAULT TO COMMIT MAYHEM OR SPECIFIC SEX OFFENSES': 589, 'STOLEN BUS': 590, 'SOLICITING COMMISSION OF A CRIME': 591, 'SALE OF ALCOHOL AFTER HOURS': 592, 'SAFE BURGLARY': 593, 'DOG OR CAT, ABANDONMENT OF': 594, 'MINOR ON ON-SALE LICENSED PREMISE': 595, 'RECEIVING STOLEN PROPERTY': 596, 'FIREARM, NEGLIGENT DISCHARGE': 597, 'EVADING A POLICE OFFICER, INJURY OR DEATH': 598, 'DRIVING WHILE UNDER THE INFLUENCE OF DRUGS, W/INJURY': 599, 'SUICIDE BY STRANGULATION': 600, 'REFUSING TO DISPERSE UPON LAWFUL COMMAND': 601, 'INCITING TO RIOT': 602, 'DESTRUCTION OF PROPERTY WITH EXPLOSIVES': 603, 'FIREWORKS, THROW AT PERSON OR DISCHARGE IN CROWD': 604, 'BURGLARY,FLAT UNDER CONSTRUCTION, UNLAWFUL ENTRY': 605, 'BALLOONS, ELECTRICALLY CONDUCTIVE': 606, 'DESERTION OF CHILD': 607, 'LYNCHING BY RIOT': 608, 'PEEPING TOM': 609, 'FURNISHING MARIJUANA': 610, 'ROBBERY OF A RESIDENCE WITH A DANGEROUS WEAPON': 611, 'ROBBERY OF A SERVICE STATION W/DANGEROUS WEAPON': 612, 'DEFRAUDING OF VEHICLE REPAIRMAN': 613, 'DEATH REPORT, IN CUSTODY': 614, 'LICENSE REQUIRED TO SELL ALCOHOL': 615, 'BURGLARY,BLDG. UNDER CONSTRUCTION, ATT. FORCIBLE': 616, 'COUNTERFEITING, PLATES OR DIES': 617, 'ABORTION': 618, 'SUICIDE BY FIREARMS': 619, 'ATTEMPTED SUICIDE BY STRANGULATION': 620, 'ROBBERY OF A SERVICE STATION WITH A GUN': 621, 'MAYHEM WITH A GUN': 622, 'AID OR HARBOR FELON': 623, 'LOITERING': 624, 'FALSE EVIDENCE OF AGE BY MINOR': 625, 'ANIMAL, WITHOUT PROPER CARE OR ATTENTION': 626, 'GRAND THEFT MOTORCYCLE STRIP': 627, 'ROBBERY OF A SERVICE STATION WITH BODILY FORCE': 628, 'FORCIBLE RAPE, ARMED WITH A GUN': 629, 'SEXUAL CONTACT WITH PATIENT, FORMER PATIENT': 630, 'LICENSE PLATE, STOLEN': 631, 'POSSESSION OF EXPLOSIVE DEVICE': 632, 'INDECENT EXPOSURE - PROSTITUTION RELATED': 633, 'IMPERSONATING FIRE DEPARTMENT MEMBER': 634, 'WEAPON, TAKING OR ATTEMPTING TO TAKE FROM PEACE OFFICER': 635, 'SAFE BURGLARY OF A RESIDENCE': 636, 'INMATE/KEEPER OF HOUSE OF PROSTITUTION': 637, 'ATTEMPTED ROBBERY SERVICE STATION WITH A KNIFE': 638, 'SCALPING TICKETS': 639, 'POSSESSION OF OPIUM DERIVATIVE': 640, 'POSSESSION OF METHADONE FOR SALES': 641, 'ATTEMPTED ROBBERY COMM. ESTAB. WITH DEADLY WEAPON': 642, 'IMPERSONATING PUBLIC UTILITY MEMBER': 643, 'SOLICITS LEWD ACT': 644, 'FORCIBLE RAPE, ARMED WITH A DANGEROUS WEAPON': 645, 'FORGERY, GOVERNMENT OR CORPORATE SEALS': 646, 'ATTEMPTED ROBBERY CHAIN STORE WITH DEADLY WEAPON': 647, 'FOOD STAMPS, MISUSE OF': 648, 'INSURED PROPERTY, DESTRUCTION TO DEFRAUD INSURER': 649, 'VEHICLE, RENTAL, FAILURE TO RETURN': 650, 'DEMONSTRATION, VIDEO EVIDENCE, MISC. INVESTIGATION': 651, 'DISASTER AREA, ENTERING OR REMAINING IN': 652, 'DESTROYING JAIL PROPERTY-OVER $200': 653, 'THEFT, DRUNK ROLL, >$400': 654, 'MASSAGE ESTABLISHMENT PERMIT VIOLATION': 655, 'FALSE REPRESENTATION TO SECONDHAND DEALER': 656, 'DISCHARGING OFFENSIVE OR INJURIOUS SUBSTANCE IN PUBLIC AREA': 657, 'LOITERS AROUND PUBLIC TOILET FOR LEWD ACT': 658, 'VIOLATION OF CIVIL GANG INJUNCTION': 659, 'PERMIT VIOLATION, SIDEWALK SALES': 660, 'TRANSPORTATION OF AMPHETAMINE': 661, 'SUICIDE BY LACERATION': 662, 'DISTURBING RELIGIOUS MEETINGS': 663, 'THEFT, GRAND, AGRICULTURAL': 664, 'LOITERING WITHOUT LAWFUL BUSINESS WITH OWNER OR OCCUPANT': 665, 'ATTEMPTED GRAND THEFT PICKPOCKET': 666, 'SELLING/DISCHARGING OF FIRECRACKERS': 667, 'THEFT, ANIMAL, ATT.': 668, 'ATTEMPTED SUICIDE BY FIRE': 669, 'THEFT OF TELECOMMUNICATION SERVICES, INCL. CLONE PHONE': 670, 'ARSON OF A POLICE BUILDING': 671, 'ADVERTISING DISTRIBUTORS PERMIT VIOLATION': 672, 'CIVIL RIGHTS, INCL. INJURY, THREAT, OR DAMAGE (HATE CRIMES)': 673, 'ENCOURAGING MINOR TO USE MARIJUANA': 674, 'TRESPASSING ON RAILROAD TRAINS': 675, 'CITIZENSHIP DOCUMENT, USING FALSE': 676, 'HAZARDOUS MATERIALS, DUMPING IN UNAUTHORIZED LOCATN': 677, 'SALE OF METHADONE': 678, 'RESCUING PRISONER FROM LAWFUL CUSTODY': 679, 'ASSAULT, AGGRAVATED, ON POLICE OFFICER, W/ GUN': 680, 'FINANCIAL STATEMENTS, FALSE': 681, 'EMBEZZLEMENT, PETTY THEFT PUBLIC/PRIVATE OFFICIAL': 682, 'ILLEGAL TRANSPORTAION OF EXPLOSIVES': 683, 'STOLEN METALS, RECEIVING': 684, 'ASSAULT TO RAPE WITH A GUN': 685, 'ASSAULT BY POLICE OFFICER': 686, 'FALSIFICATION OF MEDICAL RECORDS': 687, 'MALICIOUS MISCHIEF, BUILDING UNDER CONSTRUCTION': 688, 'WEAPONS POSSESSION BY JUVENILE SUSPECT': 689, 'VIOLATION OF CALIF UNEMPLOYMENT INSURANCE ACT': 690, 'LASERS, DISCHARGING OR LIGHTS AT AIRCRAFT': 691, 'ATTEMPTED MAYHEM WITH A KNIFE': 692, 'ATTEMPTED RAPE WITH A GUN': 693, 'HAZARDOUS SUBSTANCES, DEPOSITING': 694, 'SAFE BURGLARY OF AN APARTMENT': 695, 'ACCIDENTAL SHOOTING': 696, 'SCHOOL GROUNDS, ENTRY BY SEX OFFENDER': 697, 'BURGLARY,HOTEL UNDER CONSTRUCTION, UNLAWFUL ENTRY': 698, 'OBSCENE MATTER, DISTRIBUTION TO MINORS': 699, 'POSSESSION OF AMPHETAMINE': 700, \"ASSAULT OR ATTEMPTED MURDER UPON GOV'T OFFICERS\": 701, 'RECOVERED VEHICLE - STOLEN OUTSIDE SF': 702, 'VEHICLE, RECOVERED, CAMPER-HOUSE CAR-MOTOR HOME': 703, 'ATTEMPTED ROBBERY SERVICE STATION W/DEADLY WEAPON': 704, 'VANDALISM WITH NOXIOUS CHEMICAL': 705, 'VEHICLE, RECOVERED, AUTO': 706, 'POSS OF FIREARM SILENCER': 707, 'ESCAPEE, JUVENILE': 708, 'SUICIDE': 709, 'TELEPHONE OR TELEGRAPH MESSAGE, SENDING FALSE': 710, 'POSSESSION OF OPIUM FOR SALES': 711, 'SAFE BURGLARY OF A WAREHOUSE': 712, 'EAVESDROPPING DEVICES, SALE OR USE': 713, 'TAMPERING WITH MAIL': 714, 'BATTERY DURING LABOR DISPUTE': 715, 'VEHICLE, RECOVERED, MOTORCYCLE': 716, 'BURGLARY OF HOTEL ROOM, ATTEMPTED FORCIBLE ENTRY': 717, 'TRANSPORTATION OF METHADONE': 718, 'SELLING RESTRICTED GLUE TO JUVENILES': 719, 'CONTROLLED SUBSTANCE VIOLATION, LOITERING FOR': 720, 'POSSESSION OF GAMBLING PARAPHERNALIA': 721, 'ROBBERY OF A SERVICE STATION WITH A KNIFE': 722, 'GRAND THEFT COIN OPERATED MACHINE': 723, 'ATTEMPTED THEFT COIN OPERATED MACHINE': 724, 'SUICIDE BY DROWNING': 725, 'POSSESSION OF OPIUM': 726, \"MEGAN'S LAW NOTIFICATION\": 727, 'ATTEMPTED AUTO STRIP': 728, 'SALES COCAINE BASE/SCHOOLYARD TRAFFICKING ACT VIO': 729, 'ASSAULT TO RAPE WITH A DANGEROUS WEAPON': 730, 'CRIMES AGAINST REVENUE & PROPERTY OF STATE': 731, 'FORTUNE TELLING': 732, 'VISITING WHERE DRUGS ARE USED OR SMOKED': 733, 'ROBBERY,  ATM, KNIFE, ATT.': 734, 'POSSESSION OF OBSCENE MATTER FOR SALE': 735, 'SCHOOL STUDENT OR EMPLOYEE ENTERING  CAMPUS AFTER SUSPENSION OR DISMISSAL': 736, 'POSSESSION OF OPIUM DERIVATIVE FOR SALES': 737, 'HEATING VIOLATION  APT/HOTEL': 738, 'ASSAULT, AGGRAVATED, ON POLICE OFFICER, W/ SEMI AUTO': 739, 'POSSESSION OF BARBITUATES': 740, 'VIN SWITCH': 741, 'HAZARDOUS MATERIALS, DUMP OIL INTO SEWERS': 742, 'FALSE REPORT OF POLICE MISCONDUCT': 743, 'PETTY THEFT PHONE BOOTH': 744, 'BATHROOM HOLE, LOOKING THROUGH': 745, 'FORGERY, FALSE ENTRIES IN RECORDS OR RETURNS': 746, 'BURGLARY,FLAT UNDER CONSTRUCTION, ATT. FORCIBLE': 747, 'ATTEMPTED SUICIDE BY ASPHYXIATION': 748, 'OPERATING WITHOUT DANCEHALL PERMIT': 749, 'SOLICITS TO VISIT HOUSE OF PROSTITUTION': 750, 'PUBLIC UTILITY INFORMATION, FRAUDULENTLY OBTAINING': 751, 'EMBEZZLEMENT, PETTY THEFT PRIVATE PROPERTY': 752, 'ATTEMPTED RAPE, ARMED WITH A SHARP INSTRUMENT': 753, 'GUIDE DOG, INTERFERING WITH': 754, 'TRANSPORTATION OF HALLUCINOGENIC': 755, 'ACCESS CARD INFORMATION, PUBLICATION OF': 756, 'ASSAULT, AGGRAVATED, W/ MACHINE GUN': 757, 'ASSAULT, AGGRAVATED, W/ SEMI AUTO': 758, 'LODGING IN PARK': 759, 'ESCAPES': 760, 'DRIVING, DRAG RACING': 761, 'PERJURY': 762, 'ASSAULT BY POISONING': 763, 'LOUDSPEAKER OR SOUND TRUCK PERMIT VIOLATION': 764, 'DRUG OFFENDER, PRESENCE  NEAR SCHOOL GROUNDS': 765, 'MISPLACED VEHICLE': 766, 'ESCAPE FROM HOSPITAL WITH FORCE': 767, 'POSSESSION OF MACHINE GUN': 768, 'MONEY OFFENSE RELATED TO NARCOTICS TRAFFICKING': 769, 'KIDNAPPER, POSING AS': 770, 'COMMISSION OF FELONY WHILE ARMED': 771, 'DESTRUCTIVE DEVICE, POSSESSION OF MATERIALS': 772, 'JUVENILE PAROLE VIOLATOR': 773, 'SHORT CHANGE, GRAND THEFT': 774, 'VEHICLE, RECOVERED, OTHER VEHICLE': 775, 'THEFT, DRUNK ROLL, ATT.': 776, 'SALE OF ALCOHOL BY MINOR': 777, 'MALICIOUS MISCHIEF': 778, 'PROCUREMENT, PIMPING, & PANDERING': 779, 'POSSESSION OF BARBITUATES FOR SALES': 780, 'SALE OF ALCOHOL TO MINOR IN BAR': 781, 'HAZARDOUS MATERIALS, DUMPING IN UNAUTHORIZED LOCATION': 782, 'OBSTRUCTING HEALTH FACILITY, PLACE OF WORSHIP, OR SCHOOL': 783, 'POLICE BROADCAST, INTERCEPTION TO COMMIT CRIME': 784, 'ATTEMPTED ROBBERY OF A BANK WITH A KNIFE': 785, 'ATTEMPTED ROBBERY CHAIN STORE WITH A GUN': 786, 'ATTEMPTED ROBBERY COMM. ESTABLISHMENT W/KNIFE': 787, 'ASSAULT, AGGRAVATED, ON POLICE OFFICER, W/ FULL AUTO': 788, 'DISPLAY & SALE OF SPRAY PAINT & MARKER PENS': 789, 'ATTEMPTED RAPE, ARMED WITH A DANGEROUS WEAPON': 790, 'AGGRAVATED ASSAULT ON POLICE OFFICER WITH A GUN': 791, 'BRIBERY OF WITNESSES': 792, 'HAZARDOUS MATERIALS,  DUMP ANY SUBSTANCE INTO WATER': 793, 'DOG, FIGHTING;  OWNING, FIGHTING, OR ATTENDING FIGHT': 794, 'PUTTING SLUGS IN COIN OPERATED MACHINES': 795, 'ATTEMPTED ROBBERY SERVICE STATION W/BODILY FORCE': 796, 'SOLICITING MINOR TO COMMIT FELONY': 797, 'EMBEZZLEMENT, GRAND THEFT BY COLLECTOR': 798, 'POISONING ANIMALS': 799, 'TERRORIZING BY ARSON OR EXPLOSIVE DEVICE': 800, 'WEARING THE APPAREL OF OPPOSITE SEX TO DECEIVE': 801, 'VEHICLE, RECOVERED, MOBILE HOME-TRAILER': 802, 'SALE OF AMPHETAMINE': 803, 'EMBEZZLEMENT, GRAND THEFT PRIVATE PROPERTY': 804, 'BURGLARY,APT UNDER CONSTRUCTION, ATT. FORCIBLE': 805, 'ROBBERY, VEHICLE FOR HIRE, ATT., W/ GUN': 806, 'ASSAULT TO RAPE WITH A SHARP INSTRUMENT': 807, 'MINOR PURCHASING ALCOHOL': 808, 'SUICIDE BY INGESTION': 809, 'HAZARDOUS MATERIALS, SPILL LOAD': 810, 'EMBEZZLEMENT, GRAND THEFT BY PROPERTY CARRIER': 811, 'HAZARDOUS MATERIALS, FAILURE TO COMPLY W/REGULATIONS': 812, 'ROBBERY, VEHICLE FOR HIRE, ATT., W/ FORCE': 813, 'ALCOHOLIC BEVERAGE, PROCURING SALE OF': 814, 'ASSAULT TO ROB WITH BODILY FORCE': 815, 'VIOLATION OF STATE LABOR CODE': 816, 'YOUTH COURT': 817, 'ESCAPE FROM JAIL': 818, 'BATTERY BY JUVENILE SUSPECT': 819, 'BURGLARY,WAREHOUSE UNDER CONSTRT, UNLAWFUL ENTRY': 820, 'ATTEMPTED ROBBERY SERVICE STATION WITH A GUN': 821, 'DRUG LAB APPARATUS, POSSESSION': 822, 'PUSH-CART PEDDLER PERMIT VIOLATION': 823, 'ATTEMPTED SUICIDE BY FIREARMS': 824, 'INCEST': 825, 'ENCOURAGE MINOR TO USE CONTROLLED SUBSTANCE': 826, 'BIGAMY, INCEST, AND THE CRIME AGAINST NATURE (GENERAL)': 827, 'DISTURBANCE OF NON-RELIGIOUS, NON-POLITICAL ASSEMBLY': 828, 'POSS OF FIRE BOMB': 829, 'CITIZENSHIP OR ALIEN REGISTRATION, MAKING FALSE DOCUMENT': 830, 'FAILURE TO PROVIDE FOR PARENTS': 831, 'CABLE TV CONNECTION OR DECODING DEVICE, UNAUTHORIZED': 832, 'SALE OF SATELLITE TELEPHONE NUMBER': 833, 'SNIPER SCOPE, POSSESSION OF': 834, 'TERRORIZING BY MARKING PRIVATE PROPERTY': 835, 'OBSCENE OR LEWD PLAYS/PERFORMANCES': 836, 'ESCAPE OF PRISONER WHILE HOSPITALIZED': 837, 'INJURY TO RAILROADS/RAILROAD BRIDGES': 838, 'OPERATING WITHOUT CABARET PERMIT': 839, 'SALE OF BARBITUATES': 840, 'BOOKMAKING': 841, 'PUTTING SLUGS IN TELEPHONE BOX': 842, 'AFFIXING ADVERTISMENTS TO POLES': 843, 'EMBEZZLEMENT, PETTY THEFT BY BROOKERS/AGENTS': 844, 'ACCIDENTAL BURNS': 845, 'SAFE BURGLARY OF A FLAT': 846, 'SUICIDE BY FIRE': 847, 'PUTTING SLUGS IN PARKING METERS': 848, 'CONCEALMENT/REMOVAL OF CHILD WITHOUT CONSENT': 849, 'ENCOURAGING MINOR TO USE COCAINE': 850, 'ATTEMPTED MOTORCYCLE STRIP': 851, 'ENCOURAGE MINOR TO USE BARBITUATES': 852, 'ARSON OF A POLICE VEHICLE': 853, 'ILLEGAL CHARITABLE SOLICITATIONS': 854, 'OBSCENE MOVIES/ACTS': 855, 'PLACING WIFE IN HOUSE OF PROSTITUTION': 856, 'ATTEMPTED MAYHEM WITH A GUN': 857, 'OVERCHARGING TAXI FARE': 858, 'UNKNOWN COMPLAINT': 859, 'ASSAULT BY JUVENILE SUSPECT': 860, 'UNAUTHORIZED USE OF LOUD SPEAKERS': 861, 'FRAUDULENT AUCTION': 862, 'SALE OF OPIUM DERIVATIVE': 863, 'SAFE BURGLARY OF A WAREHOUSE WITH EXPLOSIVES': 864, 'AGGRAVATED ASSAULT OF POLICE OFFICER, SNIPING': 865, 'BURGLARY,WAREHOUSE UNDER CONSTRT, ATT. FORCIBLE': 866, 'ATTEMPTED HOMICIDE WITH EXPLOSIVES': 867, 'PURCHASE FEMALE FOR THE PURPOSE OF PROSTITUTION': 868, 'GRAND THEFT PHONE BOOTH': 869, 'ATTEMPTED THEFT PHONE BOOTH': 870, 'VEHICLE, RECOVERED, BUS': 871, 'ATTEMPTED SUICIDE BY DROWNING': 872, 'ASSAULT TO ROB BANK WITH A GUN': 873, 'BURGLARY,HOTEL UNDER CONSTRUCTION, ATT. FORCIBLE': 874, 'PLANTING/CULTIVATING PEYOTE': 875, 'REFUSAL TO IDENTIFY': 876, 'SHOOTING BY JUVENILE SUSPECT': 877, 'DESTROYING JAIL PROPERTY-$200 OR UNDER': 878, 'EMBEZZLEMENT, GRAND THEFT PUBLIC/PRIVATE OFFICIAL': 879}\n"
     ]
    }
   ],
   "source": [
    "dict_Descriptions = {}\n",
    "index = 1\n",
    "for i in pd.unique(df_train_origin[\"Descript\"]):\n",
    "    val = {i : index}\n",
    "    dict_Descriptions.update(val)\n",
    "    index+=1\n",
    "\n",
    "print(dict_Descriptions)"
   ]
  },
  {
   "cell_type": "code",
   "execution_count": 124,
   "id": "3bd27c82",
   "metadata": {},
   "outputs": [],
   "source": [
    "#maped column \"Descriptions\"\n",
    "descriptions = df_train_origin[\"Descript\"].map(dict_Descriptions).fillna(df_train_origin[\"Descript\"]).astype(int)"
   ]
  },
  {
   "cell_type": "markdown",
   "id": "09aef068",
   "metadata": {},
   "source": [
    "#### Mapping of all addresses (as a part of \"X\", perhaps useful to factorize this differently)"
   ]
  },
  {
   "cell_type": "code",
   "execution_count": 125,
   "id": "a5368c6e",
   "metadata": {},
   "outputs": [
    {
     "data": {
      "text/plain": [
       "23191"
      ]
     },
     "execution_count": 125,
     "metadata": {},
     "output_type": "execute_result"
    }
   ],
   "source": [
    "#all different Addresses\n",
    "pd.unique(df_train_origin[\"Address\"]).size"
   ]
  },
  {
   "cell_type": "code",
   "execution_count": 126,
   "id": "72bda19f",
   "metadata": {},
   "outputs": [],
   "source": [
    "dict_Addresses = {}\n",
    "index = 1\n",
    "for i in pd.unique(df_train_origin[\"Address\"]):\n",
    "    val = {i : index}\n",
    "    dict_Addresses.update(val)\n",
    "    index+=1\n",
    "\n",
    "#print(dict_Addresses)"
   ]
  },
  {
   "cell_type": "code",
   "execution_count": 127,
   "id": "370910fe",
   "metadata": {},
   "outputs": [],
   "source": [
    "#maped column \"Descriptions\"\n",
    "addresses = df_train_origin[\"Address\"].map(dict_Addresses).fillna(df_train_origin[\"Address\"]).astype(int)"
   ]
  },
  {
   "cell_type": "markdown",
   "id": "91447b81",
   "metadata": {},
   "source": [
    "#### Converting Dates to timestamps (it is split into individual attributes for meaningful use)"
   ]
  },
  {
   "cell_type": "code",
   "execution_count": 128,
   "id": "7be2b485",
   "metadata": {},
   "outputs": [
    {
     "data": {
      "text/plain": [
       "Dates          object\n",
       "Category       object\n",
       "Descript       object\n",
       "DayOfWeek      object\n",
       "PdDistrict     object\n",
       "Resolution     object\n",
       "Address        object\n",
       "X             float64\n",
       "Y             float64\n",
       "dtype: object"
      ]
     },
     "execution_count": 128,
     "metadata": {},
     "output_type": "execute_result"
    }
   ],
   "source": [
    "df_train_origin.dtypes\n"
   ]
  },
  {
   "cell_type": "code",
   "execution_count": 129,
   "id": "9267235a",
   "metadata": {},
   "outputs": [
    {
     "data": {
      "text/plain": [
       "0        2015-05-13 23:53:00\n",
       "1        2015-05-13 23:53:00\n",
       "2        2015-05-13 23:33:00\n",
       "3        2015-05-13 23:30:00\n",
       "4        2015-05-13 23:30:00\n",
       "                 ...        \n",
       "878044   2003-01-06 00:15:00\n",
       "878045   2003-01-06 00:01:00\n",
       "878046   2003-01-06 00:01:00\n",
       "878047   2003-01-06 00:01:00\n",
       "878048   2003-01-06 00:01:00\n",
       "Name: Dates, Length: 877982, dtype: datetime64[ns]"
      ]
     },
     "execution_count": 129,
     "metadata": {},
     "output_type": "execute_result"
    }
   ],
   "source": [
    "datetimes =  pd.to_datetime(df_train_origin['Dates'])\n",
    "datetimes"
   ]
  },
  {
   "cell_type": "markdown",
   "id": "53b6b569",
   "metadata": {},
   "source": [
    "#### Generating mapped dataFrame (as our \"X)"
   ]
  },
  {
   "cell_type": "code",
   "execution_count": 130,
   "id": "31bbef00",
   "metadata": {},
   "outputs": [],
   "source": [
    "data_new = { \"DayOfWeek\": weekdays,\n",
    "            \"PdDistrict\": pdDistricts,  \"Address\": addresses,\n",
    "            \"X\": df_train_origin[\"X\"], \"Y\":df_train_origin[\"Y\"] }\n",
    "#\"Resolution\" : resolutions, \"Descript\": descriptions,"
   ]
  },
  {
   "cell_type": "code",
   "execution_count": 131,
   "id": "4b51e5a4",
   "metadata": {},
   "outputs": [
    {
     "name": "stdout",
     "output_type": "stream",
     "text": [
      "        DayOfWeek  PdDistrict  Address           X          Y\n",
      "0               3           1        1 -122.425892  37.774599\n",
      "1               3           1        1 -122.425892  37.774599\n",
      "2               3           1        2 -122.424363  37.800414\n",
      "3               3           1        3 -122.426995  37.800873\n",
      "4               3           2        4 -122.438738  37.771541\n",
      "...           ...         ...      ...         ...        ...\n",
      "878044          1           7    16121 -122.459033  37.714056\n",
      "878045          1           3    13578 -122.447364  37.731948\n",
      "878046          1          10     4418 -122.403390  37.780266\n",
      "878047          1          10     2094 -122.390531  37.780607\n",
      "878048          1           4    22078 -122.394926  37.738212\n",
      "\n",
      "[877982 rows x 5 columns]\n"
     ]
    }
   ],
   "source": [
    "X_df = pd.DataFrame(data_new)\n",
    "print(X_df)"
   ]
  },
  {
   "cell_type": "code",
   "execution_count": 132,
   "id": "8bfb9eb4",
   "metadata": {},
   "outputs": [
    {
     "name": "stdout",
     "output_type": "stream",
     "text": [
      "['year', 'month', 'day', 'dayofyear', 'week', 'quarter', 'hour']\n",
      "<generator object <genexpr> at 0x000001FB48CF1B30>\n",
      "Index(['DayOfWeek', 'PdDistrict', 'Address', 'X', 'Y'], dtype='object')\n"
     ]
    },
    {
     "name": "stderr",
     "output_type": "stream",
     "text": [
      "<ipython-input-132-e5d70989e10b>:5: FutureWarning: Series.dt.weekofyear and Series.dt.week have been deprecated.  Please use Series.dt.isocalendar().week instead.\n",
      "  date_gen = (getattr(datetimes.dt, i).rename(i) for i in L)\n"
     ]
    },
    {
     "name": "stdout",
     "output_type": "stream",
     "text": [
      "        DayOfWeek  PdDistrict  Address           X          Y  year  month  \\\n",
      "0               3           1        1 -122.425892  37.774599  2015      5   \n",
      "1               3           1        1 -122.425892  37.774599  2015      5   \n",
      "2               3           1        2 -122.424363  37.800414  2015      5   \n",
      "3               3           1        3 -122.426995  37.800873  2015      5   \n",
      "4               3           2        4 -122.438738  37.771541  2015      5   \n",
      "...           ...         ...      ...         ...        ...   ...    ...   \n",
      "878044          1           7    16121 -122.459033  37.714056  2003      1   \n",
      "878045          1           3    13578 -122.447364  37.731948  2003      1   \n",
      "878046          1          10     4418 -122.403390  37.780266  2003      1   \n",
      "878047          1          10     2094 -122.390531  37.780607  2003      1   \n",
      "878048          1           4    22078 -122.394926  37.738212  2003      1   \n",
      "\n",
      "        day  dayofyear  week  quarter  hour  \n",
      "0        13        133    20        2    23  \n",
      "1        13        133    20        2    23  \n",
      "2        13        133    20        2    23  \n",
      "3        13        133    20        2    23  \n",
      "4        13        133    20        2    23  \n",
      "...     ...        ...   ...      ...   ...  \n",
      "878044    6          6     2        1     0  \n",
      "878045    6          6     2        1     0  \n",
      "878046    6          6     2        1     0  \n",
      "878047    6          6     2        1     0  \n",
      "878048    6          6     2        1     0  \n",
      "\n",
      "[877982 rows x 12 columns]\n"
     ]
    }
   ],
   "source": [
    "#splitting dates in different time features\n",
    "\n",
    "L = ['year', 'month', 'day', 'dayofyear', 'week', 'quarter', 'hour']\n",
    "print(L)\n",
    "date_gen = (getattr(datetimes.dt, i).rename(i) for i in L)\n",
    "print(date_gen)\n",
    "print(X_df.columns)\n",
    "X_df = X_df.join(pd.concat(date_gen, axis=1))\n",
    "\n",
    "print(X_df)"
   ]
  },
  {
   "cell_type": "code",
   "execution_count": 133,
   "id": "d31ad001",
   "metadata": {},
   "outputs": [
    {
     "data": {
      "image/png": "[encoded data removed]",
      "text/plain": [
       "<Figure size 1008x720 with 1 Axes>"
      ]
     },
     "metadata": {
      "needs_background": "light"
     },
     "output_type": "display_data"
    }
   ],
   "source": [
    "plt.figure(figsize=(14,10))\n",
    "plt.title('Number of crimes per category')\n",
    "plt.ylabel('Category')\n",
    "plt.xlabel('Number of Crimes')\n",
    "\n",
    "\n",
    "X_df.groupby([df_train_origin['Category']]).size().sort_values(ascending=True).plot(kind='barh')\n",
    "\n",
    "plt.show()"
   ]
  },
  {
   "cell_type": "code",
   "execution_count": 99,
   "id": "eb7a8709",
   "metadata": {},
   "outputs": [
    {
     "data": {
      "image/png": "[encoded data removed]",
      "text/plain": [
       "<Figure size 1008x720 with 1 Axes>"
      ]
     },
     "metadata": {
      "needs_background": "light"
     },
     "output_type": "display_data"
    }
   ],
   "source": [
    "#Crimes per PdDistrict\n",
    "\n",
    "plt.figure(2, figsize=(14,10))\n",
    "plt.title('Number of crimes per PdDistrict')\n",
    "plt.ylabel('Number of Crimes')\n",
    "plt.xlabel('Weekday')\n",
    "\n",
    "\n",
    "X_df.groupby([df_train_origin['PdDistrict']]).size().sort_values(ascending=True).plot(kind='bar')\n",
    "\n",
    "plt.show()"
   ]
  },
  {
   "cell_type": "code",
   "execution_count": 134,
   "id": "c897c37a",
   "metadata": {},
   "outputs": [
    {
     "data": {
      "image/png": "[encoded data removed]",
      "text/plain": [
       "<Figure size 1008x720 with 1 Axes>"
      ]
     },
     "metadata": {
      "needs_background": "light"
     },
     "output_type": "display_data"
    }
   ],
   "source": [
    "#Crimes per hour\n",
    "\n",
    "plt.figure(3, figsize=(14,10))\n",
    "plt.title('Number of crimes per hour')\n",
    "plt.ylabel('Number of Crimes')\n",
    "plt.xlabel('hour')\n",
    "\n",
    "\n",
    "X_df.groupby([X_df['hour']]).size().sort_values(ascending=True).plot(kind='bar')\n",
    "\n",
    "plt.show()"
   ]
  },
  {
   "cell_type": "code",
   "execution_count": 48,
   "id": "38a76d9a",
   "metadata": {},
   "outputs": [
    {
     "data": {
      "image/png": "[encoded data removed]",
      "text/plain": [
       "<Figure size 1008x720 with 1 Axes>"
      ]
     },
     "metadata": {
      "needs_background": "light"
     },
     "output_type": "display_data"
    }
   ],
   "source": [
    "#Crimes per month\n",
    "plt.figure(4, figsize=(14,10))\n",
    "plt.title('Number of crimes per month')\n",
    "plt.ylabel('Number of Crimes')\n",
    "plt.xlabel('month')\n",
    "\n",
    "\n",
    "X_df.groupby([X_df['month']]).size().sort_values(ascending=True).plot(kind='bar')\n",
    "\n",
    "plt.show()"
   ]
  },
  {
   "cell_type": "code",
   "execution_count": 135,
   "id": "91ab9abb",
   "metadata": {},
   "outputs": [
    {
     "data": {
      "image/png": "[encoded data removed]",
      "text/plain": [
       "<Figure size 1008x720 with 1 Axes>"
      ]
     },
     "metadata": {
      "needs_background": "light"
     },
     "output_type": "display_data"
    }
   ],
   "source": [
    "#Crimes per Year\n",
    "plt.figure(4, figsize=(14,10))\n",
    "plt.title('Number of crimes per year')\n",
    "plt.ylabel('Number of Crimes')\n",
    "plt.xlabel('year')\n",
    "\n",
    "\n",
    "X_df.groupby([X_df['year']]).size().sort_values(ascending=True).plot(kind='bar')\n",
    "\n",
    "plt.show()"
   ]
  },
  {
   "cell_type": "markdown",
   "id": "b1f0ed6c",
   "metadata": {},
   "source": [
    "#### Preparing the models\n",
    "        "
   ]
  },
  {
   "cell_type": "code",
   "execution_count": 138,
   "id": "67851e86",
   "metadata": {},
   "outputs": [],
   "source": [
    "#Train- data split into train and test datasets\n",
    "\n",
    "x_train, x_test, y_train, y_test = train_test_split(X_df, Y_df, train_size=0.8, random_state=0)"
   ]
  },
  {
   "cell_type": "code",
   "execution_count": null,
   "id": "ebbfd8b7",
   "metadata": {},
   "outputs": [],
   "source": []
  }
 ],
 "metadata": {
  "kernelspec": {
   "display_name": "Python 3",
   "language": "python",
   "name": "python3"
  },
  "language_info": {
   "codemirror_mode": {
    "name": "ipython",
    "version": 3
   },
   "file_extension": ".py",
   "mimetype": "text/x-python",
   "name": "python",
   "nbconvert_exporter": "python",
   "pygments_lexer": "ipython3",
   "version": "3.8.8"
  }
 },
 "nbformat": 4,
 "nbformat_minor": 5
}
